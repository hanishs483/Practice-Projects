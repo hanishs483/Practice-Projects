{
 "cells": [
  {
   "cell_type": "markdown",
   "metadata": {},
   "source": [
    "# Data Loading"
   ]
  },
  {
   "cell_type": "code",
   "execution_count": 1,
   "metadata": {},
   "outputs": [],
   "source": [
    "#importing the libraries\n",
    "import pandas as pd\n",
    "import os\n",
    "import warnings\n",
    "warnings.filterwarnings('ignore')"
   ]
  },
  {
   "cell_type": "code",
   "execution_count": 2,
   "metadata": {},
   "outputs": [
    {
     "data": {
      "text/html": [
       "<div>\n",
       "<style scoped>\n",
       "    .dataframe tbody tr th:only-of-type {\n",
       "        vertical-align: middle;\n",
       "    }\n",
       "\n",
       "    .dataframe tbody tr th {\n",
       "        vertical-align: top;\n",
       "    }\n",
       "\n",
       "    .dataframe thead th {\n",
       "        text-align: right;\n",
       "    }\n",
       "</style>\n",
       "<table border=\"1\" class=\"dataframe\">\n",
       "  <thead>\n",
       "    <tr style=\"text-align: right;\">\n",
       "      <th></th>\n",
       "      <th>1</th>\n",
       "      <th>2</th>\n",
       "      <th>3</th>\n",
       "      <th>4</th>\n",
       "      <th>5</th>\n",
       "      <th>6</th>\n",
       "      <th>7</th>\n",
       "      <th>8</th>\n",
       "      <th>9</th>\n",
       "      <th>10</th>\n",
       "      <th>11</th>\n",
       "      <th>12</th>\n",
       "      <th>13</th>\n",
       "      <th>14</th>\n",
       "    </tr>\n",
       "  </thead>\n",
       "  <tbody>\n",
       "    <tr>\n",
       "      <th>0</th>\n",
       "      <td>44</td>\n",
       "      <td>1</td>\n",
       "      <td>4</td>\n",
       "      <td>130</td>\n",
       "      <td>209</td>\n",
       "      <td>0</td>\n",
       "      <td>1</td>\n",
       "      <td>127</td>\n",
       "      <td>0</td>\n",
       "      <td>0</td>\n",
       "      <td>?</td>\n",
       "      <td>?</td>\n",
       "      <td>?</td>\n",
       "      <td>0</td>\n",
       "    </tr>\n",
       "    <tr>\n",
       "      <th>1</th>\n",
       "      <td>60</td>\n",
       "      <td>1</td>\n",
       "      <td>4</td>\n",
       "      <td>132</td>\n",
       "      <td>218</td>\n",
       "      <td>0</td>\n",
       "      <td>1</td>\n",
       "      <td>140</td>\n",
       "      <td>1</td>\n",
       "      <td>1.5</td>\n",
       "      <td>3</td>\n",
       "      <td>?</td>\n",
       "      <td>?</td>\n",
       "      <td>2</td>\n",
       "    </tr>\n",
       "    <tr>\n",
       "      <th>2</th>\n",
       "      <td>55</td>\n",
       "      <td>1</td>\n",
       "      <td>4</td>\n",
       "      <td>142</td>\n",
       "      <td>228</td>\n",
       "      <td>0</td>\n",
       "      <td>1</td>\n",
       "      <td>149</td>\n",
       "      <td>1</td>\n",
       "      <td>2.5</td>\n",
       "      <td>1</td>\n",
       "      <td>?</td>\n",
       "      <td>?</td>\n",
       "      <td>1</td>\n",
       "    </tr>\n",
       "    <tr>\n",
       "      <th>3</th>\n",
       "      <td>66</td>\n",
       "      <td>1</td>\n",
       "      <td>3</td>\n",
       "      <td>110</td>\n",
       "      <td>213</td>\n",
       "      <td>1</td>\n",
       "      <td>2</td>\n",
       "      <td>99</td>\n",
       "      <td>1</td>\n",
       "      <td>1.3</td>\n",
       "      <td>2</td>\n",
       "      <td>?</td>\n",
       "      <td>?</td>\n",
       "      <td>0</td>\n",
       "    </tr>\n",
       "    <tr>\n",
       "      <th>4</th>\n",
       "      <td>66</td>\n",
       "      <td>1</td>\n",
       "      <td>3</td>\n",
       "      <td>120</td>\n",
       "      <td>0</td>\n",
       "      <td>0</td>\n",
       "      <td>1</td>\n",
       "      <td>120</td>\n",
       "      <td>0</td>\n",
       "      <td>-0.5</td>\n",
       "      <td>1</td>\n",
       "      <td>?</td>\n",
       "      <td>?</td>\n",
       "      <td>0</td>\n",
       "    </tr>\n",
       "  </tbody>\n",
       "</table>\n",
       "</div>"
      ],
      "text/plain": [
       "   1   2   3    4    5  6   7    8  9     10 11 12 13  14\n",
       "0  44   1   4  130  209  0   1  127  0     0  ?  ?  ?   0\n",
       "1  60   1   4  132  218  0   1  140  1   1.5  3  ?  ?   2\n",
       "2  55   1   4  142  228  0   1  149  1   2.5  1  ?  ?   1\n",
       "3  66   1   3  110  213  1   2   99  1   1.3  2  ?  ?   0\n",
       "4  66   1   3  120    0  0   1  120  0  -0.5  1  ?  ?   0"
      ]
     },
     "execution_count": 2,
     "metadata": {},
     "output_type": "execute_result"
    }
   ],
   "source": [
    "#importing the file from github\n",
    "df=pd.read_csv(\"https://raw.githubusercontent.com/dsrscientist/dataset1/master/heartdisease_data.csv\",names=range(1,15),header=0)\n",
    "df.head()"
   ]
  },
  {
   "cell_type": "code",
   "execution_count": 3,
   "metadata": {},
   "outputs": [],
   "source": [
    "df.rename(columns = {1:'Age',2:'sex',3:'cp',4:'trestbps',5:'chol',6:'fbs',7:'restecg',8:'thalach',9:'exang',10:'oldpeak',11:'slope',12:'ca',13:'thal',14:'num'}, inplace = True)"
   ]
  },
  {
   "cell_type": "code",
   "execution_count": 4,
   "metadata": {},
   "outputs": [
    {
     "data": {
      "text/html": [
       "<div>\n",
       "<style scoped>\n",
       "    .dataframe tbody tr th:only-of-type {\n",
       "        vertical-align: middle;\n",
       "    }\n",
       "\n",
       "    .dataframe tbody tr th {\n",
       "        vertical-align: top;\n",
       "    }\n",
       "\n",
       "    .dataframe thead th {\n",
       "        text-align: right;\n",
       "    }\n",
       "</style>\n",
       "<table border=\"1\" class=\"dataframe\">\n",
       "  <thead>\n",
       "    <tr style=\"text-align: right;\">\n",
       "      <th></th>\n",
       "      <th>Age</th>\n",
       "      <th>sex</th>\n",
       "      <th>cp</th>\n",
       "      <th>trestbps</th>\n",
       "      <th>chol</th>\n",
       "      <th>fbs</th>\n",
       "      <th>restecg</th>\n",
       "      <th>thalach</th>\n",
       "      <th>exang</th>\n",
       "      <th>oldpeak</th>\n",
       "      <th>slope</th>\n",
       "      <th>ca</th>\n",
       "      <th>thal</th>\n",
       "      <th>num</th>\n",
       "    </tr>\n",
       "  </thead>\n",
       "  <tbody>\n",
       "    <tr>\n",
       "      <th>0</th>\n",
       "      <td>44</td>\n",
       "      <td>1</td>\n",
       "      <td>4</td>\n",
       "      <td>130</td>\n",
       "      <td>209</td>\n",
       "      <td>0</td>\n",
       "      <td>1</td>\n",
       "      <td>127</td>\n",
       "      <td>0</td>\n",
       "      <td>0</td>\n",
       "      <td>?</td>\n",
       "      <td>?</td>\n",
       "      <td>?</td>\n",
       "      <td>0</td>\n",
       "    </tr>\n",
       "    <tr>\n",
       "      <th>1</th>\n",
       "      <td>60</td>\n",
       "      <td>1</td>\n",
       "      <td>4</td>\n",
       "      <td>132</td>\n",
       "      <td>218</td>\n",
       "      <td>0</td>\n",
       "      <td>1</td>\n",
       "      <td>140</td>\n",
       "      <td>1</td>\n",
       "      <td>1.5</td>\n",
       "      <td>3</td>\n",
       "      <td>?</td>\n",
       "      <td>?</td>\n",
       "      <td>2</td>\n",
       "    </tr>\n",
       "    <tr>\n",
       "      <th>2</th>\n",
       "      <td>55</td>\n",
       "      <td>1</td>\n",
       "      <td>4</td>\n",
       "      <td>142</td>\n",
       "      <td>228</td>\n",
       "      <td>0</td>\n",
       "      <td>1</td>\n",
       "      <td>149</td>\n",
       "      <td>1</td>\n",
       "      <td>2.5</td>\n",
       "      <td>1</td>\n",
       "      <td>?</td>\n",
       "      <td>?</td>\n",
       "      <td>1</td>\n",
       "    </tr>\n",
       "    <tr>\n",
       "      <th>3</th>\n",
       "      <td>66</td>\n",
       "      <td>1</td>\n",
       "      <td>3</td>\n",
       "      <td>110</td>\n",
       "      <td>213</td>\n",
       "      <td>1</td>\n",
       "      <td>2</td>\n",
       "      <td>99</td>\n",
       "      <td>1</td>\n",
       "      <td>1.3</td>\n",
       "      <td>2</td>\n",
       "      <td>?</td>\n",
       "      <td>?</td>\n",
       "      <td>0</td>\n",
       "    </tr>\n",
       "    <tr>\n",
       "      <th>4</th>\n",
       "      <td>66</td>\n",
       "      <td>1</td>\n",
       "      <td>3</td>\n",
       "      <td>120</td>\n",
       "      <td>0</td>\n",
       "      <td>0</td>\n",
       "      <td>1</td>\n",
       "      <td>120</td>\n",
       "      <td>0</td>\n",
       "      <td>-0.5</td>\n",
       "      <td>1</td>\n",
       "      <td>?</td>\n",
       "      <td>?</td>\n",
       "      <td>0</td>\n",
       "    </tr>\n",
       "    <tr>\n",
       "      <th>...</th>\n",
       "      <td>...</td>\n",
       "      <td>...</td>\n",
       "      <td>...</td>\n",
       "      <td>...</td>\n",
       "      <td>...</td>\n",
       "      <td>...</td>\n",
       "      <td>...</td>\n",
       "      <td>...</td>\n",
       "      <td>...</td>\n",
       "      <td>...</td>\n",
       "      <td>...</td>\n",
       "      <td>...</td>\n",
       "      <td>...</td>\n",
       "      <td>...</td>\n",
       "    </tr>\n",
       "    <tr>\n",
       "      <th>194</th>\n",
       "      <td>54</td>\n",
       "      <td>0</td>\n",
       "      <td>4</td>\n",
       "      <td>127</td>\n",
       "      <td>333</td>\n",
       "      <td>1</td>\n",
       "      <td>1</td>\n",
       "      <td>154</td>\n",
       "      <td>0</td>\n",
       "      <td>0</td>\n",
       "      <td>?</td>\n",
       "      <td>?</td>\n",
       "      <td>?</td>\n",
       "      <td>1</td>\n",
       "    </tr>\n",
       "    <tr>\n",
       "      <th>195</th>\n",
       "      <td>62</td>\n",
       "      <td>1</td>\n",
       "      <td>1</td>\n",
       "      <td>?</td>\n",
       "      <td>139</td>\n",
       "      <td>0</td>\n",
       "      <td>1</td>\n",
       "      <td>?</td>\n",
       "      <td>?</td>\n",
       "      <td>?</td>\n",
       "      <td>?</td>\n",
       "      <td>?</td>\n",
       "      <td>?</td>\n",
       "      <td>0</td>\n",
       "    </tr>\n",
       "    <tr>\n",
       "      <th>196</th>\n",
       "      <td>55</td>\n",
       "      <td>1</td>\n",
       "      <td>4</td>\n",
       "      <td>122</td>\n",
       "      <td>223</td>\n",
       "      <td>1</td>\n",
       "      <td>1</td>\n",
       "      <td>100</td>\n",
       "      <td>0</td>\n",
       "      <td>0</td>\n",
       "      <td>?</td>\n",
       "      <td>?</td>\n",
       "      <td>6</td>\n",
       "      <td>2</td>\n",
       "    </tr>\n",
       "    <tr>\n",
       "      <th>197</th>\n",
       "      <td>58</td>\n",
       "      <td>1</td>\n",
       "      <td>4</td>\n",
       "      <td>?</td>\n",
       "      <td>385</td>\n",
       "      <td>1</td>\n",
       "      <td>2</td>\n",
       "      <td>?</td>\n",
       "      <td>?</td>\n",
       "      <td>?</td>\n",
       "      <td>?</td>\n",
       "      <td>?</td>\n",
       "      <td>?</td>\n",
       "      <td>0</td>\n",
       "    </tr>\n",
       "    <tr>\n",
       "      <th>198</th>\n",
       "      <td>62</td>\n",
       "      <td>1</td>\n",
       "      <td>2</td>\n",
       "      <td>120</td>\n",
       "      <td>254</td>\n",
       "      <td>0</td>\n",
       "      <td>2</td>\n",
       "      <td>93</td>\n",
       "      <td>1</td>\n",
       "      <td>0</td>\n",
       "      <td>?</td>\n",
       "      <td>?</td>\n",
       "      <td>?</td>\n",
       "      <td>1</td>\n",
       "    </tr>\n",
       "  </tbody>\n",
       "</table>\n",
       "<p>199 rows × 14 columns</p>\n",
       "</div>"
      ],
      "text/plain": [
       "     Age  sex  cp trestbps chol fbs  restecg thalach exang oldpeak slope ca  \\\n",
       "0     44    1   4      130  209   0        1     127     0       0     ?  ?   \n",
       "1     60    1   4      132  218   0        1     140     1     1.5     3  ?   \n",
       "2     55    1   4      142  228   0        1     149     1     2.5     1  ?   \n",
       "3     66    1   3      110  213   1        2      99     1     1.3     2  ?   \n",
       "4     66    1   3      120    0   0        1     120     0    -0.5     1  ?   \n",
       "..   ...  ...  ..      ...  ...  ..      ...     ...   ...     ...   ... ..   \n",
       "194   54    0   4      127  333   1        1     154     0       0     ?  ?   \n",
       "195   62    1   1        ?  139   0        1       ?     ?       ?     ?  ?   \n",
       "196   55    1   4      122  223   1        1     100     0       0     ?  ?   \n",
       "197   58    1   4        ?  385   1        2       ?     ?       ?     ?  ?   \n",
       "198   62    1   2      120  254   0        2      93     1       0     ?  ?   \n",
       "\n",
       "    thal  num  \n",
       "0      ?    0  \n",
       "1      ?    2  \n",
       "2      ?    1  \n",
       "3      ?    0  \n",
       "4      ?    0  \n",
       "..   ...  ...  \n",
       "194    ?    1  \n",
       "195    ?    0  \n",
       "196    6    2  \n",
       "197    ?    0  \n",
       "198    ?    1  \n",
       "\n",
       "[199 rows x 14 columns]"
      ]
     },
     "execution_count": 4,
     "metadata": {},
     "output_type": "execute_result"
    }
   ],
   "source": [
    "df"
   ]
  },
  {
   "cell_type": "code",
   "execution_count": 5,
   "metadata": {},
   "outputs": [
    {
     "name": "stdout",
     "output_type": "stream",
     "text": [
      "<class 'pandas.core.frame.DataFrame'>\n",
      "RangeIndex: 199 entries, 0 to 198\n",
      "Data columns (total 14 columns):\n",
      " #   Column    Non-Null Count  Dtype \n",
      "---  ------    --------------  ----- \n",
      " 0   Age       199 non-null    int64 \n",
      " 1   sex       199 non-null    int64 \n",
      " 2   cp        199 non-null    int64 \n",
      " 3   trestbps  199 non-null    object\n",
      " 4   chol      199 non-null    object\n",
      " 5   fbs       199 non-null    object\n",
      " 6   restecg   199 non-null    int64 \n",
      " 7   thalach   199 non-null    object\n",
      " 8   exang     199 non-null    object\n",
      " 9   oldpeak   199 non-null    object\n",
      " 10  slope     199 non-null    object\n",
      " 11  ca        199 non-null    object\n",
      " 12  thal      199 non-null    object\n",
      " 13  num       199 non-null    int64 \n",
      "dtypes: int64(5), object(9)\n",
      "memory usage: 21.9+ KB\n"
     ]
    }
   ],
   "source": [
    "df.info()"
   ]
  },
  {
   "cell_type": "code",
   "execution_count": 6,
   "metadata": {},
   "outputs": [
    {
     "data": {
      "text/plain": [
       "Age          int64\n",
       "sex          int64\n",
       "cp           int64\n",
       "trestbps    object\n",
       "chol        object\n",
       "fbs         object\n",
       "restecg      int64\n",
       "thalach     object\n",
       "exang       object\n",
       "oldpeak     object\n",
       "slope       object\n",
       "ca          object\n",
       "thal        object\n",
       "num          int64\n",
       "dtype: object"
      ]
     },
     "execution_count": 6,
     "metadata": {},
     "output_type": "execute_result"
    }
   ],
   "source": [
    "df.dtypes\n",
    "#describes which column is of which data type"
   ]
  },
  {
   "cell_type": "code",
   "execution_count": 7,
   "metadata": {},
   "outputs": [
    {
     "data": {
      "text/plain": [
       "Age          39\n",
       "sex           2\n",
       "cp            4\n",
       "trestbps     41\n",
       "chol        100\n",
       "fbs           3\n",
       "restecg       3\n",
       "thalach      60\n",
       "exang         3\n",
       "oldpeak      15\n",
       "slope         4\n",
       "ca            2\n",
       "thal          4\n",
       "num           5\n",
       "dtype: int64"
      ]
     },
     "execution_count": 7,
     "metadata": {},
     "output_type": "execute_result"
    }
   ],
   "source": [
    "#checking unique value for every column\n",
    "df.apply(lambda x: len(x.unique()))"
   ]
  },
  {
   "cell_type": "code",
   "execution_count": 8,
   "metadata": {},
   "outputs": [
    {
     "data": {
      "text/plain": [
       "Index(['Age', 'sex', 'cp', 'trestbps', 'chol', 'fbs', 'restecg', 'thalach',\n",
       "       'exang', 'oldpeak', 'slope', 'ca', 'thal', 'num'],\n",
       "      dtype='object')"
      ]
     },
     "execution_count": 8,
     "metadata": {},
     "output_type": "execute_result"
    }
   ],
   "source": [
    "df.columns"
   ]
  },
  {
   "cell_type": "markdown",
   "metadata": {},
   "source": [
    "# EDA"
   ]
  },
  {
   "cell_type": "code",
   "execution_count": 9,
   "metadata": {},
   "outputs": [],
   "source": [
    "import seaborn as sns\n",
    "import matplotlib.pyplot as plt\n",
    "import warnings\n",
    "import numpy as np"
   ]
  },
  {
   "cell_type": "code",
   "execution_count": 10,
   "metadata": {},
   "outputs": [],
   "source": [
    "df= df.replace(\"?\", np.nan)"
   ]
  },
  {
   "cell_type": "code",
   "execution_count": 11,
   "metadata": {},
   "outputs": [
    {
     "data": {
      "text/plain": [
       "Age           0\n",
       "sex           0\n",
       "cp            0\n",
       "trestbps     56\n",
       "chol          7\n",
       "fbs           7\n",
       "restecg       0\n",
       "thalach      53\n",
       "exang        53\n",
       "oldpeak      56\n",
       "slope       102\n",
       "ca          197\n",
       "thal        165\n",
       "num           0\n",
       "dtype: int64"
      ]
     },
     "execution_count": 11,
     "metadata": {},
     "output_type": "execute_result"
    }
   ],
   "source": [
    "df.isnull().sum()"
   ]
  },
  {
   "cell_type": "code",
   "execution_count": 12,
   "metadata": {},
   "outputs": [
    {
     "data": {
      "text/html": [
       "<div>\n",
       "<style scoped>\n",
       "    .dataframe tbody tr th:only-of-type {\n",
       "        vertical-align: middle;\n",
       "    }\n",
       "\n",
       "    .dataframe tbody tr th {\n",
       "        vertical-align: top;\n",
       "    }\n",
       "\n",
       "    .dataframe thead th {\n",
       "        text-align: right;\n",
       "    }\n",
       "</style>\n",
       "<table border=\"1\" class=\"dataframe\">\n",
       "  <thead>\n",
       "    <tr style=\"text-align: right;\">\n",
       "      <th></th>\n",
       "      <th>Age</th>\n",
       "      <th>sex</th>\n",
       "      <th>cp</th>\n",
       "      <th>trestbps</th>\n",
       "      <th>chol</th>\n",
       "      <th>fbs</th>\n",
       "      <th>restecg</th>\n",
       "      <th>thalach</th>\n",
       "      <th>exang</th>\n",
       "      <th>oldpeak</th>\n",
       "      <th>slope</th>\n",
       "      <th>ca</th>\n",
       "      <th>thal</th>\n",
       "      <th>num</th>\n",
       "    </tr>\n",
       "  </thead>\n",
       "  <tbody>\n",
       "    <tr>\n",
       "      <th>0</th>\n",
       "      <td>False</td>\n",
       "      <td>False</td>\n",
       "      <td>False</td>\n",
       "      <td>False</td>\n",
       "      <td>False</td>\n",
       "      <td>False</td>\n",
       "      <td>False</td>\n",
       "      <td>False</td>\n",
       "      <td>False</td>\n",
       "      <td>False</td>\n",
       "      <td>True</td>\n",
       "      <td>True</td>\n",
       "      <td>True</td>\n",
       "      <td>False</td>\n",
       "    </tr>\n",
       "    <tr>\n",
       "      <th>1</th>\n",
       "      <td>False</td>\n",
       "      <td>False</td>\n",
       "      <td>False</td>\n",
       "      <td>False</td>\n",
       "      <td>False</td>\n",
       "      <td>False</td>\n",
       "      <td>False</td>\n",
       "      <td>False</td>\n",
       "      <td>False</td>\n",
       "      <td>False</td>\n",
       "      <td>False</td>\n",
       "      <td>True</td>\n",
       "      <td>True</td>\n",
       "      <td>False</td>\n",
       "    </tr>\n",
       "    <tr>\n",
       "      <th>2</th>\n",
       "      <td>False</td>\n",
       "      <td>False</td>\n",
       "      <td>False</td>\n",
       "      <td>False</td>\n",
       "      <td>False</td>\n",
       "      <td>False</td>\n",
       "      <td>False</td>\n",
       "      <td>False</td>\n",
       "      <td>False</td>\n",
       "      <td>False</td>\n",
       "      <td>False</td>\n",
       "      <td>True</td>\n",
       "      <td>True</td>\n",
       "      <td>False</td>\n",
       "    </tr>\n",
       "    <tr>\n",
       "      <th>3</th>\n",
       "      <td>False</td>\n",
       "      <td>False</td>\n",
       "      <td>False</td>\n",
       "      <td>False</td>\n",
       "      <td>False</td>\n",
       "      <td>False</td>\n",
       "      <td>False</td>\n",
       "      <td>False</td>\n",
       "      <td>False</td>\n",
       "      <td>False</td>\n",
       "      <td>False</td>\n",
       "      <td>True</td>\n",
       "      <td>True</td>\n",
       "      <td>False</td>\n",
       "    </tr>\n",
       "    <tr>\n",
       "      <th>4</th>\n",
       "      <td>False</td>\n",
       "      <td>False</td>\n",
       "      <td>False</td>\n",
       "      <td>False</td>\n",
       "      <td>False</td>\n",
       "      <td>False</td>\n",
       "      <td>False</td>\n",
       "      <td>False</td>\n",
       "      <td>False</td>\n",
       "      <td>False</td>\n",
       "      <td>False</td>\n",
       "      <td>True</td>\n",
       "      <td>True</td>\n",
       "      <td>False</td>\n",
       "    </tr>\n",
       "    <tr>\n",
       "      <th>...</th>\n",
       "      <td>...</td>\n",
       "      <td>...</td>\n",
       "      <td>...</td>\n",
       "      <td>...</td>\n",
       "      <td>...</td>\n",
       "      <td>...</td>\n",
       "      <td>...</td>\n",
       "      <td>...</td>\n",
       "      <td>...</td>\n",
       "      <td>...</td>\n",
       "      <td>...</td>\n",
       "      <td>...</td>\n",
       "      <td>...</td>\n",
       "      <td>...</td>\n",
       "    </tr>\n",
       "    <tr>\n",
       "      <th>194</th>\n",
       "      <td>False</td>\n",
       "      <td>False</td>\n",
       "      <td>False</td>\n",
       "      <td>False</td>\n",
       "      <td>False</td>\n",
       "      <td>False</td>\n",
       "      <td>False</td>\n",
       "      <td>False</td>\n",
       "      <td>False</td>\n",
       "      <td>False</td>\n",
       "      <td>True</td>\n",
       "      <td>True</td>\n",
       "      <td>True</td>\n",
       "      <td>False</td>\n",
       "    </tr>\n",
       "    <tr>\n",
       "      <th>195</th>\n",
       "      <td>False</td>\n",
       "      <td>False</td>\n",
       "      <td>False</td>\n",
       "      <td>True</td>\n",
       "      <td>False</td>\n",
       "      <td>False</td>\n",
       "      <td>False</td>\n",
       "      <td>True</td>\n",
       "      <td>True</td>\n",
       "      <td>True</td>\n",
       "      <td>True</td>\n",
       "      <td>True</td>\n",
       "      <td>True</td>\n",
       "      <td>False</td>\n",
       "    </tr>\n",
       "    <tr>\n",
       "      <th>196</th>\n",
       "      <td>False</td>\n",
       "      <td>False</td>\n",
       "      <td>False</td>\n",
       "      <td>False</td>\n",
       "      <td>False</td>\n",
       "      <td>False</td>\n",
       "      <td>False</td>\n",
       "      <td>False</td>\n",
       "      <td>False</td>\n",
       "      <td>False</td>\n",
       "      <td>True</td>\n",
       "      <td>True</td>\n",
       "      <td>False</td>\n",
       "      <td>False</td>\n",
       "    </tr>\n",
       "    <tr>\n",
       "      <th>197</th>\n",
       "      <td>False</td>\n",
       "      <td>False</td>\n",
       "      <td>False</td>\n",
       "      <td>True</td>\n",
       "      <td>False</td>\n",
       "      <td>False</td>\n",
       "      <td>False</td>\n",
       "      <td>True</td>\n",
       "      <td>True</td>\n",
       "      <td>True</td>\n",
       "      <td>True</td>\n",
       "      <td>True</td>\n",
       "      <td>True</td>\n",
       "      <td>False</td>\n",
       "    </tr>\n",
       "    <tr>\n",
       "      <th>198</th>\n",
       "      <td>False</td>\n",
       "      <td>False</td>\n",
       "      <td>False</td>\n",
       "      <td>False</td>\n",
       "      <td>False</td>\n",
       "      <td>False</td>\n",
       "      <td>False</td>\n",
       "      <td>False</td>\n",
       "      <td>False</td>\n",
       "      <td>False</td>\n",
       "      <td>True</td>\n",
       "      <td>True</td>\n",
       "      <td>True</td>\n",
       "      <td>False</td>\n",
       "    </tr>\n",
       "  </tbody>\n",
       "</table>\n",
       "<p>199 rows × 14 columns</p>\n",
       "</div>"
      ],
      "text/plain": [
       "       Age    sex     cp  trestbps   chol    fbs  restecg  thalach  exang  \\\n",
       "0    False  False  False     False  False  False    False    False  False   \n",
       "1    False  False  False     False  False  False    False    False  False   \n",
       "2    False  False  False     False  False  False    False    False  False   \n",
       "3    False  False  False     False  False  False    False    False  False   \n",
       "4    False  False  False     False  False  False    False    False  False   \n",
       "..     ...    ...    ...       ...    ...    ...      ...      ...    ...   \n",
       "194  False  False  False     False  False  False    False    False  False   \n",
       "195  False  False  False      True  False  False    False     True   True   \n",
       "196  False  False  False     False  False  False    False    False  False   \n",
       "197  False  False  False      True  False  False    False     True   True   \n",
       "198  False  False  False     False  False  False    False    False  False   \n",
       "\n",
       "     oldpeak  slope    ca   thal    num  \n",
       "0      False   True  True   True  False  \n",
       "1      False  False  True   True  False  \n",
       "2      False  False  True   True  False  \n",
       "3      False  False  True   True  False  \n",
       "4      False  False  True   True  False  \n",
       "..       ...    ...   ...    ...    ...  \n",
       "194    False   True  True   True  False  \n",
       "195     True   True  True   True  False  \n",
       "196    False   True  True  False  False  \n",
       "197     True   True  True   True  False  \n",
       "198    False   True  True   True  False  \n",
       "\n",
       "[199 rows x 14 columns]"
      ]
     },
     "execution_count": 12,
     "metadata": {},
     "output_type": "execute_result"
    }
   ],
   "source": [
    "df.isnull()"
   ]
  },
  {
   "cell_type": "code",
   "execution_count": 13,
   "metadata": {},
   "outputs": [
    {
     "data": {
      "text/plain": [
       "<matplotlib.axes._subplots.AxesSubplot at 0x1d8c6fd56a0>"
      ]
     },
     "execution_count": 13,
     "metadata": {},
     "output_type": "execute_result"
    },
    {
     "data": {
      "image/png": "[encoded data removed]",
      "text/plain": [
       "<Figure size 432x288 with 2 Axes>"
      ]
     },
     "metadata": {
      "needs_background": "light"
     },
     "output_type": "display_data"
    }
   ],
   "source": [
    "sns.heatmap(df.isnull())"
   ]
  },
  {
   "cell_type": "code",
   "execution_count": 14,
   "metadata": {},
   "outputs": [],
   "source": [
    "#replacing nan values with mode of the column because it is categorical data\n",
    "for col in['fbs','exang','slope','num','thal']:\n",
    "    df[col].fillna(df[col].mode()[0],inplace=True)"
   ]
  },
  {
   "cell_type": "code",
   "execution_count": 15,
   "metadata": {},
   "outputs": [],
   "source": [
    "#now replacing the nan value in rest of the columns with zero so that i can change it's datatype from object to int or float.\n",
    "df= df.replace(np.nan,0)"
   ]
  },
  {
   "cell_type": "raw",
   "metadata": {},
   "source": [
    "changing datatype from object to int or float now"
   ]
  },
  {
   "cell_type": "code",
   "execution_count": 16,
   "metadata": {},
   "outputs": [],
   "source": [
    "df[\"trestbps\"]=df[\"trestbps\"].astype(\"int\")"
   ]
  },
  {
   "cell_type": "code",
   "execution_count": 17,
   "metadata": {},
   "outputs": [],
   "source": [
    "df[\"chol\"]=df[\"chol\"].astype(\"int\")"
   ]
  },
  {
   "cell_type": "code",
   "execution_count": 18,
   "metadata": {},
   "outputs": [],
   "source": [
    "df[\"thalach\"]=df[\"thalach\"].astype(\"int\")"
   ]
  },
  {
   "cell_type": "code",
   "execution_count": 19,
   "metadata": {},
   "outputs": [],
   "source": [
    "df[\"oldpeak\"]=df[\"oldpeak\"].astype(\"float\")"
   ]
  },
  {
   "cell_type": "code",
   "execution_count": 20,
   "metadata": {},
   "outputs": [],
   "source": [
    "df[\"slope\"]=df[\"slope\"].astype(\"int\")"
   ]
  },
  {
   "cell_type": "code",
   "execution_count": 21,
   "metadata": {
    "scrolled": true
   },
   "outputs": [
    {
     "data": {
      "text/html": [
       "<div>\n",
       "<style scoped>\n",
       "    .dataframe tbody tr th:only-of-type {\n",
       "        vertical-align: middle;\n",
       "    }\n",
       "\n",
       "    .dataframe tbody tr th {\n",
       "        vertical-align: top;\n",
       "    }\n",
       "\n",
       "    .dataframe thead th {\n",
       "        text-align: right;\n",
       "    }\n",
       "</style>\n",
       "<table border=\"1\" class=\"dataframe\">\n",
       "  <thead>\n",
       "    <tr style=\"text-align: right;\">\n",
       "      <th></th>\n",
       "      <th>Age</th>\n",
       "      <th>sex</th>\n",
       "      <th>cp</th>\n",
       "      <th>trestbps</th>\n",
       "      <th>chol</th>\n",
       "      <th>fbs</th>\n",
       "      <th>restecg</th>\n",
       "      <th>thalach</th>\n",
       "      <th>exang</th>\n",
       "      <th>oldpeak</th>\n",
       "      <th>slope</th>\n",
       "      <th>ca</th>\n",
       "      <th>thal</th>\n",
       "      <th>num</th>\n",
       "    </tr>\n",
       "  </thead>\n",
       "  <tbody>\n",
       "    <tr>\n",
       "      <th>0</th>\n",
       "      <td>44</td>\n",
       "      <td>1</td>\n",
       "      <td>4</td>\n",
       "      <td>130</td>\n",
       "      <td>209</td>\n",
       "      <td>0</td>\n",
       "      <td>1</td>\n",
       "      <td>127</td>\n",
       "      <td>0</td>\n",
       "      <td>0.0</td>\n",
       "      <td>2</td>\n",
       "      <td>0</td>\n",
       "      <td>7</td>\n",
       "      <td>0</td>\n",
       "    </tr>\n",
       "    <tr>\n",
       "      <th>1</th>\n",
       "      <td>60</td>\n",
       "      <td>1</td>\n",
       "      <td>4</td>\n",
       "      <td>132</td>\n",
       "      <td>218</td>\n",
       "      <td>0</td>\n",
       "      <td>1</td>\n",
       "      <td>140</td>\n",
       "      <td>1</td>\n",
       "      <td>1.5</td>\n",
       "      <td>3</td>\n",
       "      <td>0</td>\n",
       "      <td>7</td>\n",
       "      <td>2</td>\n",
       "    </tr>\n",
       "    <tr>\n",
       "      <th>2</th>\n",
       "      <td>55</td>\n",
       "      <td>1</td>\n",
       "      <td>4</td>\n",
       "      <td>142</td>\n",
       "      <td>228</td>\n",
       "      <td>0</td>\n",
       "      <td>1</td>\n",
       "      <td>149</td>\n",
       "      <td>1</td>\n",
       "      <td>2.5</td>\n",
       "      <td>1</td>\n",
       "      <td>0</td>\n",
       "      <td>7</td>\n",
       "      <td>1</td>\n",
       "    </tr>\n",
       "    <tr>\n",
       "      <th>3</th>\n",
       "      <td>66</td>\n",
       "      <td>1</td>\n",
       "      <td>3</td>\n",
       "      <td>110</td>\n",
       "      <td>213</td>\n",
       "      <td>1</td>\n",
       "      <td>2</td>\n",
       "      <td>99</td>\n",
       "      <td>1</td>\n",
       "      <td>1.3</td>\n",
       "      <td>2</td>\n",
       "      <td>0</td>\n",
       "      <td>7</td>\n",
       "      <td>0</td>\n",
       "    </tr>\n",
       "    <tr>\n",
       "      <th>4</th>\n",
       "      <td>66</td>\n",
       "      <td>1</td>\n",
       "      <td>3</td>\n",
       "      <td>120</td>\n",
       "      <td>0</td>\n",
       "      <td>0</td>\n",
       "      <td>1</td>\n",
       "      <td>120</td>\n",
       "      <td>0</td>\n",
       "      <td>-0.5</td>\n",
       "      <td>1</td>\n",
       "      <td>0</td>\n",
       "      <td>7</td>\n",
       "      <td>0</td>\n",
       "    </tr>\n",
       "    <tr>\n",
       "      <th>...</th>\n",
       "      <td>...</td>\n",
       "      <td>...</td>\n",
       "      <td>...</td>\n",
       "      <td>...</td>\n",
       "      <td>...</td>\n",
       "      <td>...</td>\n",
       "      <td>...</td>\n",
       "      <td>...</td>\n",
       "      <td>...</td>\n",
       "      <td>...</td>\n",
       "      <td>...</td>\n",
       "      <td>...</td>\n",
       "      <td>...</td>\n",
       "      <td>...</td>\n",
       "    </tr>\n",
       "    <tr>\n",
       "      <th>194</th>\n",
       "      <td>54</td>\n",
       "      <td>0</td>\n",
       "      <td>4</td>\n",
       "      <td>127</td>\n",
       "      <td>333</td>\n",
       "      <td>1</td>\n",
       "      <td>1</td>\n",
       "      <td>154</td>\n",
       "      <td>0</td>\n",
       "      <td>0.0</td>\n",
       "      <td>2</td>\n",
       "      <td>0</td>\n",
       "      <td>7</td>\n",
       "      <td>1</td>\n",
       "    </tr>\n",
       "    <tr>\n",
       "      <th>195</th>\n",
       "      <td>62</td>\n",
       "      <td>1</td>\n",
       "      <td>1</td>\n",
       "      <td>0</td>\n",
       "      <td>139</td>\n",
       "      <td>0</td>\n",
       "      <td>1</td>\n",
       "      <td>0</td>\n",
       "      <td>1</td>\n",
       "      <td>0.0</td>\n",
       "      <td>2</td>\n",
       "      <td>0</td>\n",
       "      <td>7</td>\n",
       "      <td>0</td>\n",
       "    </tr>\n",
       "    <tr>\n",
       "      <th>196</th>\n",
       "      <td>55</td>\n",
       "      <td>1</td>\n",
       "      <td>4</td>\n",
       "      <td>122</td>\n",
       "      <td>223</td>\n",
       "      <td>1</td>\n",
       "      <td>1</td>\n",
       "      <td>100</td>\n",
       "      <td>0</td>\n",
       "      <td>0.0</td>\n",
       "      <td>2</td>\n",
       "      <td>0</td>\n",
       "      <td>6</td>\n",
       "      <td>2</td>\n",
       "    </tr>\n",
       "    <tr>\n",
       "      <th>197</th>\n",
       "      <td>58</td>\n",
       "      <td>1</td>\n",
       "      <td>4</td>\n",
       "      <td>0</td>\n",
       "      <td>385</td>\n",
       "      <td>1</td>\n",
       "      <td>2</td>\n",
       "      <td>0</td>\n",
       "      <td>1</td>\n",
       "      <td>0.0</td>\n",
       "      <td>2</td>\n",
       "      <td>0</td>\n",
       "      <td>7</td>\n",
       "      <td>0</td>\n",
       "    </tr>\n",
       "    <tr>\n",
       "      <th>198</th>\n",
       "      <td>62</td>\n",
       "      <td>1</td>\n",
       "      <td>2</td>\n",
       "      <td>120</td>\n",
       "      <td>254</td>\n",
       "      <td>0</td>\n",
       "      <td>2</td>\n",
       "      <td>93</td>\n",
       "      <td>1</td>\n",
       "      <td>0.0</td>\n",
       "      <td>2</td>\n",
       "      <td>0</td>\n",
       "      <td>7</td>\n",
       "      <td>1</td>\n",
       "    </tr>\n",
       "  </tbody>\n",
       "</table>\n",
       "<p>199 rows × 14 columns</p>\n",
       "</div>"
      ],
      "text/plain": [
       "     Age  sex  cp  trestbps  chol fbs  restecg  thalach exang  oldpeak  slope  \\\n",
       "0     44    1   4       130   209   0        1      127     0      0.0      2   \n",
       "1     60    1   4       132   218   0        1      140     1      1.5      3   \n",
       "2     55    1   4       142   228   0        1      149     1      2.5      1   \n",
       "3     66    1   3       110   213   1        2       99     1      1.3      2   \n",
       "4     66    1   3       120     0   0        1      120     0     -0.5      1   \n",
       "..   ...  ...  ..       ...   ...  ..      ...      ...   ...      ...    ...   \n",
       "194   54    0   4       127   333   1        1      154     0      0.0      2   \n",
       "195   62    1   1         0   139   0        1        0     1      0.0      2   \n",
       "196   55    1   4       122   223   1        1      100     0      0.0      2   \n",
       "197   58    1   4         0   385   1        2        0     1      0.0      2   \n",
       "198   62    1   2       120   254   0        2       93     1      0.0      2   \n",
       "\n",
       "    ca thal  num  \n",
       "0    0    7    0  \n",
       "1    0    7    2  \n",
       "2    0    7    1  \n",
       "3    0    7    0  \n",
       "4    0    7    0  \n",
       "..  ..  ...  ...  \n",
       "194  0    7    1  \n",
       "195  0    7    0  \n",
       "196  0    6    2  \n",
       "197  0    7    0  \n",
       "198  0    7    1  \n",
       "\n",
       "[199 rows x 14 columns]"
      ]
     },
     "execution_count": 21,
     "metadata": {},
     "output_type": "execute_result"
    }
   ],
   "source": [
    "df"
   ]
  },
  {
   "cell_type": "raw",
   "metadata": {},
   "source": [
    "Now changing zero value to median \n",
    "why median?\n",
    "because of the outliers"
   ]
  },
  {
   "cell_type": "code",
   "execution_count": 22,
   "metadata": {},
   "outputs": [
    {
     "name": "stdout",
     "output_type": "stream",
     "text": [
      "122.0\n"
     ]
    }
   ],
   "source": [
    "\n",
    "median_trestbps = df['trestbps'].median(skipna=True)\n",
    "print(median_trestbps)"
   ]
  },
  {
   "cell_type": "code",
   "execution_count": 23,
   "metadata": {},
   "outputs": [],
   "source": [
    "df['trestbps']=df.trestbps.mask(df.trestbps == 0,median_trestbps)\n"
   ]
  },
  {
   "cell_type": "code",
   "execution_count": 24,
   "metadata": {},
   "outputs": [
    {
     "name": "stdout",
     "output_type": "stream",
     "text": [
      "214.0\n"
     ]
    }
   ],
   "source": [
    "median_chol = df['chol'].median(skipna=True)\n",
    "print(median_chol)"
   ]
  },
  {
   "cell_type": "code",
   "execution_count": 25,
   "metadata": {},
   "outputs": [],
   "source": [
    "df['chol']=df.chol.mask(df.chol == 0,median_chol)\n"
   ]
  },
  {
   "cell_type": "code",
   "execution_count": 26,
   "metadata": {},
   "outputs": [
    {
     "name": "stdout",
     "output_type": "stream",
     "text": [
      "111.0\n"
     ]
    }
   ],
   "source": [
    "median_thalach = df['thalach'].median(skipna=True)\n",
    "print(median_thalach)"
   ]
  },
  {
   "cell_type": "code",
   "execution_count": 27,
   "metadata": {},
   "outputs": [],
   "source": [
    "df['thalach']=df.thalach.mask(df.thalach == 0,median_thalach)\n"
   ]
  },
  {
   "cell_type": "code",
   "execution_count": 28,
   "metadata": {},
   "outputs": [
    {
     "name": "stdout",
     "output_type": "stream",
     "text": [
      "0.5\n"
     ]
    }
   ],
   "source": [
    "median_oldpeak = df['oldpeak'].median(skipna=True)\n",
    "print(median_oldpeak)"
   ]
  },
  {
   "cell_type": "code",
   "execution_count": 29,
   "metadata": {},
   "outputs": [],
   "source": [
    "df['oldpeak']=df.oldpeak.mask(df.oldpeak == 0,median_oldpeak)\n"
   ]
  },
  {
   "cell_type": "code",
   "execution_count": 30,
   "metadata": {},
   "outputs": [
    {
     "name": "stdout",
     "output_type": "stream",
     "text": [
      "     Age  sex  cp  trestbps  chol fbs  restecg  thalach exang  oldpeak  slope  \\\n",
      "0     44    1   4       130   209   0        1      127     0      0.5      2   \n",
      "1     60    1   4       132   218   0        1      140     1      1.5      3   \n",
      "2     55    1   4       142   228   0        1      149     1      2.5      1   \n",
      "3     66    1   3       110   213   1        2       99     1      1.3      2   \n",
      "4     66    1   3       120   214   0        1      120     0     -0.5      1   \n",
      "5     65    1   4       150   236   1        1      105     1      0.5      2   \n",
      "6     60    1   3       180   214   0        1      140     1      1.5      2   \n",
      "7     60    1   3       120   214   0        0      141     1      2.0      1   \n",
      "8     60    1   2       160   267   1        1      157     0      0.5      2   \n",
      "9     56    1   2       126   166   0        1      140     0      0.5      2   \n",
      "10    59    1   4       140   214   0        1      117     1      1.0      2   \n",
      "11    62    1   4       110   214   0        0      120     1      0.5      2   \n",
      "12    63    1   3       122   214   0        2      111     1      0.5      2   \n",
      "13    57    1   4       128   214   1        1      148     1      1.0      2   \n",
      "14    62    1   4       120   220   0        1       86     0      0.5      2   \n",
      "15    63    1   4       170   177   0        0       84     1      2.5      3   \n",
      "16    46    1   4       110   236   0        0      125     1      2.0      2   \n",
      "17    63    1   4       126   214   0        1      120     0      1.5      3   \n",
      "18    60    1   4       152   214   0        1      118     1      0.5      2   \n",
      "19    58    1   4       116   214   0        0      124     0      1.0      1   \n",
      "20    64    1   4       120   214   1        1      106     0      2.0      2   \n",
      "21    63    1   3       130   214   0        1      111     1      0.5      2   \n",
      "22    74    1   3       122   214   0        0      111     1      0.5      2   \n",
      "23    52    1   3       128   214   0        1      180     0      3.0      1   \n",
      "24    69    1   4       130   214   1        1      129     0      1.0      2   \n",
      "25    51    1   4       122   214   1        1      111     1      0.5      2   \n",
      "26    60    1   4       130   186   1        1      140     1      0.5      2   \n",
      "27    56    1   4       120   100   0        0      120     1      1.5      2   \n",
      "28    55    1   3       122   228   0        1      111     1      0.5      2   \n",
      "29    54    1   4       122   214   0        1      111     1      0.5      2   \n",
      "30    77    1   4       124   171   0        1      110     1      2.0      1   \n",
      "31    63    1   4       160   230   1        0      105     1      1.0      2   \n",
      "32    55    1   3       122   214   0        0      155     0      1.5      2   \n",
      "33    52    1   3       122   214   0        0      110     1      2.0      3   \n",
      "34    64    1   4       144   214   0        1      122     1      1.0      2   \n",
      "35    60    1   4       122   281   0        1      111     1      0.5      2   \n",
      "36    60    1   4       120   214   0        0      133     1      2.0      1   \n",
      "37    58    1   4       122   203   1        0      111     1      0.5      2   \n",
      "38    59    1   4       154   214   0        1      131     1      1.5      2   \n",
      "39    61    1   3       120   214   0        0       80     1      0.5      2   \n",
      "40    40    1   4       125   214   1        0      165     0      0.5      2   \n",
      "41    61    1   4       122   214   1        1       86     0      1.5      2   \n",
      "42    41    1   4       104   214   0        1      111     0      0.5      2   \n",
      "43    57    1   4       122   277   1        1      111     1      0.5      2   \n",
      "44    63    1   4       136   214   0        0       84     1      0.5      2   \n",
      "45    59    1   4       122   233   0        0      117     1      1.3      3   \n",
      "46    51    1   4       128   214   0        0      107     0      0.5      2   \n",
      "47    59    1   3       122   214   0        0      128     1      2.0      3   \n",
      "48    42    1   3       134   240   0        0      160     0      0.5      2   \n",
      "49    55    1   3       120   214   0        1      125     1      2.5      2   \n",
      "50    63    0   2       122   214   0        0      111     1      0.5      2   \n",
      "51    62    1   4       152   153   0        1       97     1      1.6      1   \n",
      "52    56    1   2       124   224   1        0      161     0      2.0      2   \n",
      "53    53    1   4       126   214   0        0      106     0      0.5      2   \n",
      "54    68    1   4       138   214   0        0      130     1      3.0      2   \n",
      "55    53    1   4       154   214   0        1      140     1      1.5      2   \n",
      "56    60    1   3       122   316   1        1      111     1      0.5      2   \n",
      "57    62    1   2       122   214   0        0      111     1      0.5      2   \n",
      "58    59    1   4       178   214   1        2      120     1      0.5      2   \n",
      "59    51    1   4       122   218   1        2      111     1      0.5      2   \n",
      "60    61    1   4       110   214   0        0      108     1      2.0      3   \n",
      "61    57    1   4       130   311   0        1      148     1      2.0      2   \n",
      "62    56    1   3       170   214   0        2      123     1      2.5      2   \n",
      "63    58    1   2       126   214   1        0      110     1      2.0      2   \n",
      "64    69    1   3       140   214   0        1      118     0      2.5      3   \n",
      "65    67    1   1       142   270   1        0      125     0      2.5      1   \n",
      "66    58    1   4       120   214   0        2      106     1      1.5      3   \n",
      "67    65    1   4       122   214   0        0      111     1      0.5      2   \n",
      "68    63    1   2       122   217   1        1      111     1      0.5      2   \n",
      "69    55    1   2       110   214   1        1      180     0      0.5      2   \n",
      "70    57    1   4       140   214   0        1      144     1      2.0      2   \n",
      "71    65    1   1       122   252   0        0      111     1      0.5      2   \n",
      "72    54    1   4       136   220   0        0      140     1      3.0      2   \n",
      "73    72    1   3       120   214   0        0      102     1      1.0      2   \n",
      "74    75    1   4       170   203   1        1      108     0      0.5      2   \n",
      "75    49    1   1       130   214   0        1      145     0      3.0      2   \n",
      "76    51    1   3       122   339   0        0      111     1      0.5      2   \n",
      "77    60    1   4       142   216   0        0      110     1      2.5      2   \n",
      "78    64    0   4       142   276   0        0      140     1      1.0      2   \n",
      "79    58    1   4       132   458   1        0       69     0      1.0      3   \n",
      "80    61    1   4       146   241   0        0      148     1      3.0      3   \n",
      "81    67    1   4       160   384   1        1      130     1      0.5      2   \n",
      "82    62    1   4       135   297   0        0      130     1      1.0      2   \n",
      "83    65    1   4       136   248   0        0      140     1      4.0      3   \n",
      "84    63    1   4       130   308   0        0      138     1      2.0      2   \n",
      "85    69    1   4       140   208   0        1      140     1      2.0      2   \n",
      "86    51    1   4       122   227   1        1      111     1      0.5      2   \n",
      "87    62    1   4       158   210   1        0      112     1      3.0      3   \n",
      "88    55    1   3       122   245   1        1      111     1      0.5      2   \n",
      "89    75    1   4       136   225   0        0      112     1      3.0      2   \n",
      "90    40    1   3       106   240   0        0       80     1      0.5      2   \n",
      "91    67    1   4       120   214   1        0      150     0      1.5      3   \n",
      "92    58    1   4       110   198   0        0      110     0      0.5      2   \n",
      "93    60    1   4       122   195   0        0      111     1      0.5      2   \n",
      "94    63    1   4       160   267   1        1       88     1      2.0      2   \n",
      "95    35    1   3       122   161   0        1      111     1      0.5      2   \n",
      "96    62    1   1       112   258   0        1      150     1      0.5      2   \n",
      "97    43    1   4       122   214   0        0      120     0      0.5      1   \n",
      "98    63    1   3       130   214   1        1      160     0      3.0      2   \n",
      "99    68    1   3       150   195   1        0      132     0      0.5      2   \n",
      "100   65    1   4       150   235   0        0      120     1      1.5      2   \n",
      "101   48    1   3       102   214   0        1      110     1      1.0      3   \n",
      "102   63    1   4        96   305   0        1      121     1      1.0      1   \n",
      "103   64    1   4       130   223   0        1      128     0      0.5      2   \n",
      "104   61    1   4       120   282   0        1      135     1      4.0      3   \n",
      "105   50    1   4       144   349   0        2      120     1      1.0      1   \n",
      "106   59    1   4       124   214   0        0      117     1      1.0      2   \n",
      "107   55    1   4       150   160   0        1      150     0      0.5      2   \n",
      "108   45    1   3       122   236   0        0      111     1      0.5      2   \n",
      "109   65    1   4       122   312   0        2      111     1      0.5      2   \n",
      "110   61    1   2       122   283   0        0      111     1      0.5      2   \n",
      "111   49    1   3       122   142   0        0      111     1      0.5      2   \n",
      "112   72    1   4       122   211   0        0      111     1      0.5      2   \n",
      "113   50    1   4       122   218   0        0      111     1      0.5      2   \n",
      "114   64    1   4       122   306   1        1      111     1      0.5      2   \n",
      "115   55    1   4       116   186   1        1      102     0      0.5      2   \n",
      "116   63    1   4       110   252   0        1      140     1      2.0      2   \n",
      "117   59    1   4       125   222   0        0      135     1      2.5      3   \n",
      "118   56    1   4       122   214   0        2      111     1      0.5      2   \n",
      "119   62    1   3       122   214   1        1      111     1      0.5      2   \n",
      "120   74    1   4       150   258   1        1      130     1      4.0      3   \n",
      "121   54    1   4       130   202   1        0      112     1      2.0      2   \n",
      "122   57    1   4       110   197   0        2      100     0      0.5      2   \n",
      "123   62    1   3       122   204   0        1      111     1      0.5      2   \n",
      "124   76    1   3       104   214   0        2      120     0      3.5      3   \n",
      "125   54    0   4       138   274   0        0      105     1      1.5      2   \n",
      "126   70    1   4       170   192   0        1      129     1      3.0      3   \n",
      "127   61    0   2       140   298   1        0      120     1      0.5      2   \n",
      "128   48    1   4       122   272   0        1      111     1      0.5      2   \n",
      "129   48    1   3       132   220   1        1      162     0      0.5      2   \n",
      "130   61    1   1       142   200   1        1      100     0      1.5      3   \n",
      "131   66    1   4       112   261   0        0      140     0      1.5      1   \n",
      "132   68    1   1       122   181   1        1      111     1      0.5      2   \n",
      "133   55    1   4       172   260   0        0       73     0      2.0      2   \n",
      "134   62    1   3       120   220   0        2       86     0      0.5      2   \n",
      "135   71    1   3       122   221   0        0      111     1      0.5      2   \n",
      "136   74    1   1       122   216   1        0      111     1      0.5      2   \n",
      "137   53    1   3       155   175   1        1      160     0      0.5      2   \n",
      "138   58    1   3       150   219   0        1      118     1      0.5      2   \n",
      "139   75    1   4       160   310   1        0      112     1      2.0      3   \n",
      "140   56    1   3       122   208   1        1      111     1      0.5      2   \n",
      "141   58    1   3       122   232   0        1      111     1      0.5      2   \n",
      "142   64    1   4       134   273   0        0      102     1      4.0      3   \n",
      "143   54    1   3       122   203   0        1      111     1      0.5      2   \n",
      "144   54    1   2       122   182   0        1      111     1      0.5      2   \n",
      "145   59    1   4       140   274   0        0      154     1      2.0      2   \n",
      "146   55    1   4       122   204   1        1      111     1      0.5      2   \n",
      "147   57    1   4       144   270   1        1      160     1      2.0      2   \n",
      "148   61    1   4       122   292   0        1      111     1      0.5      2   \n",
      "149   41    1   4       150   171   0        0      128     1      1.5      2   \n",
      "150   71    1   4       130   221   0        1      115     1      0.5      2   \n",
      "151   38    1   4       110   289   0        0      105     1      1.5      3   \n",
      "152   55    1   4       158   217   0        0      110     1      2.5      2   \n",
      "153   56    1   4       128   223   0        1      119     1      2.0      3   \n",
      "154   69    1   4       122   214   1        0      111     1      0.5      2   \n",
      "155   64    1   4       150   193   0        1      135     1      0.5      2   \n",
      "156   72    1   4       160   214   1        2      130     0      1.5      2   \n",
      "157   69    1   4       122   210   1        1      111     1      0.5      2   \n",
      "158   56    1   4       122   282   1        0      111     1      0.5      2   \n",
      "159   62    1   4       122   170   0        1      120     1      3.0      2   \n",
      "160   67    1   4       122   369   0        0      111     1      0.5      2   \n",
      "161   57    1   4       156   173   0        2      119     1      3.0      3   \n",
      "162   69    1   4       122   289   1        1      111     1      0.5      2   \n",
      "163   51    1   4       122   214   1        2      111     1      0.5      2   \n",
      "164   48    1   4       140   214   0        0      159     1      1.5      1   \n",
      "165   69    1   4       122   216   1        2       84     1      0.5      2   \n",
      "166   69    1   3       122   271   0        2      111     1      0.5      2   \n",
      "167   64    1   4       122   244   1        1      111     1      0.5      2   \n",
      "168   57    1   2       180   285   1        1      120     0      0.8      2   \n",
      "169   53    1   4       124   243   0        0      122     1      2.0      2   \n",
      "170   37    1   3       118   240   0        2      165     0      1.0      2   \n",
      "171   67    1   4       140   219   0        1      122     1      2.0      2   \n",
      "172   74    1   3       140   237   1        0       94     0      0.5      2   \n",
      "173   63    1   2       122   165   0        1      111     1      0.5      2   \n",
      "174   58    1   4       100   213   0        1      110     0      0.5      2   \n",
      "175   61    1   4       190   287   1        2      150     1      2.0      3   \n",
      "176   64    1   4       130   258   1        2      130     0      0.5      2   \n",
      "177   58    1   4       160   256   1        2      113     1      1.0      1   \n",
      "178   60    1   4       130   186   1        2      140     1      0.5      2   \n",
      "179   57    1   4       122   264   0        2      100     0      0.5      2   \n",
      "180   55    1   3       122   214   0        1      111     1      0.5      2   \n",
      "181   55    1   4       120   226   0        2      127     1      1.7      3   \n",
      "182   56    1   4       130   203   1        0       98     0      1.5      2   \n",
      "183   57    1   4       130   207   0        1       96     1      1.0      2   \n",
      "184   61    1   3       122   284   0        0      111     1      0.5      2   \n",
      "185   61    1   3       120   337   0        0       98     1      0.5      2   \n",
      "186   58    1   3       150   219   0        1      118     1      0.5      2   \n",
      "187   74    1   4       155   310   0        0      112     1      1.5      3   \n",
      "188   68    1   3       134   254   1        0      151     1      0.5      2   \n",
      "189   51    0   4       114   258   1        2       96     0      1.0      1   \n",
      "190   62    1   4       160   254   1        1      108     1      3.0      2   \n",
      "191   53    1   4       144   300   1        1      128     1      1.5      2   \n",
      "192   62    1   4       158   170   0        1      138     1      0.5      2   \n",
      "193   46    1   4       134   310   0        0      126     0      0.5      2   \n",
      "194   54    0   4       127   333   1        1      154     0      0.5      2   \n",
      "195   62    1   1       122   139   0        1      111     1      0.5      2   \n",
      "196   55    1   4       122   223   1        1      100     0      0.5      2   \n",
      "197   58    1   4       122   385   1        2      111     1      0.5      2   \n",
      "198   62    1   2       120   254   0        2       93     1      0.5      2   \n",
      "\n",
      "    ca thal  num  \n",
      "0    0    7    0  \n",
      "1    0    7    2  \n",
      "2    0    7    1  \n",
      "3    0    7    0  \n",
      "4    0    7    0  \n",
      "5    0    7    3  \n",
      "6    0    7    0  \n",
      "7    0    7    3  \n",
      "8    0    7    1  \n",
      "9    0    7    0  \n",
      "10   0    7    1  \n",
      "11   0    3    1  \n",
      "12   0    7    1  \n",
      "13   0    7    1  \n",
      "14   0    7    0  \n",
      "15   0    7    4  \n",
      "16   0    7    1  \n",
      "17   0    7    0  \n",
      "18   0    7    0  \n",
      "19   0    7    2  \n",
      "20   0    7    1  \n",
      "21   0    7    3  \n",
      "22   0    7    0  \n",
      "23   0    7    2  \n",
      "24   0    6    2  \n",
      "25   0    7    2  \n",
      "26   0    7    1  \n",
      "27   0    7    1  \n",
      "28   0    7    3  \n",
      "29   0    7    3  \n",
      "30   0    7    3  \n",
      "31   0    7    3  \n",
      "32   0    7    3  \n",
      "33   0    7    2  \n",
      "34   0    7    3  \n",
      "35   0    7    2  \n",
      "36   0    7    0  \n",
      "37   0    7    1  \n",
      "38   0    7    0  \n",
      "39   0    7    3  \n",
      "40   0    7    1  \n",
      "41   0    7    3  \n",
      "42   0    7    0  \n",
      "43   0    7    4  \n",
      "44   0    7    2  \n",
      "45   0    7    1  \n",
      "46   0    7    0  \n",
      "47   0    7    2  \n",
      "48   0    7    0  \n",
      "49   0    7    1  \n",
      "50   0    7    0  \n",
      "51   0    7    2  \n",
      "52   0    7    0  \n",
      "53   0    7    1  \n",
      "54   0    7    2  \n",
      "55   0    7    2  \n",
      "56   0    7    3  \n",
      "57   0    7    0  \n",
      "58   0    7    1  \n",
      "59   0    7    0  \n",
      "60   0    7    2  \n",
      "61   0    7    1  \n",
      "62   0    7    4  \n",
      "63   0    7    2  \n",
      "64   0    7    2  \n",
      "65   0    7    3  \n",
      "66   0    7    1  \n",
      "67   0    7    1  \n",
      "68   0    7    1  \n",
      "69   0    7    0  \n",
      "70   0    6    2  \n",
      "71   0    7    0  \n",
      "72   0    7    3  \n",
      "73   0    7    3  \n",
      "74   0    7    1  \n",
      "75   0    7    2  \n",
      "76   0    7    3  \n",
      "77   0    7    2  \n",
      "78   0    7    1  \n",
      "79   0    7    0  \n",
      "80   0    7    2  \n",
      "81   0    7    2  \n",
      "82   0    7    2  \n",
      "83   0    7    4  \n",
      "84   0    7    2  \n",
      "85   0    7    3  \n",
      "86   0    7    0  \n",
      "87   0    7    1  \n",
      "88   0    7    1  \n",
      "89   0    7    3  \n",
      "90   0    7    0  \n",
      "91   0    7    3  \n",
      "92   0    7    1  \n",
      "93   0    7    0  \n",
      "94   0    7    3  \n",
      "95   0    7    0  \n",
      "96   0    7    1  \n",
      "97   0    7    1  \n",
      "98   0    7    0  \n",
      "99   0    6    1  \n",
      "100  0    7    3  \n",
      "101  0    7    1  \n",
      "102  0    7    1  \n",
      "103  0    7    0  \n",
      "104  0    6    3  \n",
      "105  0    7    1  \n",
      "106  0    7    1  \n",
      "107  0    7    0  \n",
      "108  0    7    0  \n",
      "109  0    7    3  \n",
      "110  0    7    0  \n",
      "111  0    7    3  \n",
      "112  0    7    1  \n",
      "113  0    7    1  \n",
      "114  0    7    3  \n",
      "115  0    7    2  \n",
      "116  0    7    2  \n",
      "117  0    7    3  \n",
      "118  0    7    1  \n",
      "119  0    7    2  \n",
      "120  0    7    3  \n",
      "121  0    7    1  \n",
      "122  0    7    0  \n",
      "123  0    7    1  \n",
      "124  0    7    4  \n",
      "125  0    7    1  \n",
      "126  0    7    2  \n",
      "127  0    7    0  \n",
      "128  0    7    0  \n",
      "129  0    6    1  \n",
      "130  0    7    3  \n",
      "131  0    7    1  \n",
      "132  0    7    0  \n",
      "133  0    7    3  \n",
      "134  0    7    0  \n",
      "135  0    7    3  \n",
      "136  0    7    3  \n",
      "137  0    6    0  \n",
      "138  0    7    2  \n",
      "139  0    7    0  \n",
      "140  0    7    4  \n",
      "141  0    7    2  \n",
      "142  0    7    4  \n",
      "143  0    7    0  \n",
      "144  0    7    0  \n",
      "145  0    7    0  \n",
      "146  0    7    1  \n",
      "147  0    7    3  \n",
      "148  0    7    3  \n",
      "149  0    7    0  \n",
      "150  0    7    3  \n",
      "151  0    7    1  \n",
      "152  0    7    1  \n",
      "153  0    7    2  \n",
      "154  0    7    2  \n",
      "155  0    7    2  \n",
      "156  0    7    2  \n",
      "157  0    7    2  \n",
      "158  0    7    1  \n",
      "159  0    7    4  \n",
      "160  0    7    3  \n",
      "161  0    7    3  \n",
      "162  0    7    3  \n",
      "163  0    7    1  \n",
      "164  0    7    3  \n",
      "165  0    7    2  \n",
      "166  0    7    0  \n",
      "167  0    7    2  \n",
      "168  0    7    1  \n",
      "169  0    7    1  \n",
      "170  0    3    0  \n",
      "171  0    7    3  \n",
      "172  0    7    1  \n",
      "173  0    7    0  \n",
      "174  0    7    0  \n",
      "175  0    7    4  \n",
      "176  0    6    2  \n",
      "177  0    7    3  \n",
      "178  0    7    1  \n",
      "179  0    7    1  \n",
      "180  0    7    0  \n",
      "181  0    7    1  \n",
      "182  0    7    1  \n",
      "183  0    7    0  \n",
      "184  0    7    1  \n",
      "185  0    7    3  \n",
      "186  0    7    2  \n",
      "187  0    7    2  \n",
      "188  0    3    0  \n",
      "189  0    7    0  \n",
      "190  0    7    4  \n",
      "191  0    7    3  \n",
      "192  0    7    1  \n",
      "193  0    3    2  \n",
      "194  0    7    1  \n",
      "195  0    7    0  \n",
      "196  0    6    2  \n",
      "197  0    7    0  \n",
      "198  0    7    1  \n"
     ]
    }
   ],
   "source": [
    "with pd.option_context('display.max_rows', None, 'display.max_columns', None):  # more options can be specified also\n",
    "    print(df)\n"
   ]
  },
  {
   "cell_type": "code",
   "execution_count": 31,
   "metadata": {},
   "outputs": [
    {
     "data": {
      "text/plain": [
       "<matplotlib.axes._subplots.AxesSubplot at 0x1d8c776e9a0>"
      ]
     },
     "execution_count": 31,
     "metadata": {},
     "output_type": "execute_result"
    },
    {
     "data": {
      "image/png": "[encoded data removed]",
      "text/plain": [
       "<Figure size 432x288 with 2 Axes>"
      ]
     },
     "metadata": {
      "needs_background": "light"
     },
     "output_type": "display_data"
    }
   ],
   "source": [
    "sns.heatmap(df.isnull())"
   ]
  },
  {
   "cell_type": "markdown",
   "metadata": {},
   "source": [
    "# Univariate Analysis"
   ]
  },
  {
   "cell_type": "code",
   "execution_count": 32,
   "metadata": {},
   "outputs": [
    {
     "data": {
      "text/plain": [
       "<matplotlib.axes._subplots.AxesSubplot at 0x1d8c7899850>"
      ]
     },
     "execution_count": 32,
     "metadata": {},
     "output_type": "execute_result"
    },
    {
     "data": {
      "image/png": "[encoded data removed]",
      "text/plain": [
       "<Figure size 432x288 with 1 Axes>"
      ]
     },
     "metadata": {
      "needs_background": "light"
     },
     "output_type": "display_data"
    }
   ],
   "source": [
    "sns.distplot(df[\"trestbps\"])"
   ]
  },
  {
   "cell_type": "code",
   "execution_count": 33,
   "metadata": {},
   "outputs": [
    {
     "data": {
      "text/plain": [
       "<matplotlib.axes._subplots.AxesSubplot at 0x1d8c7938a30>"
      ]
     },
     "execution_count": 33,
     "metadata": {},
     "output_type": "execute_result"
    },
    {
     "data": {
      "image/png": "[encoded data removed]",
      "text/plain": [
       "<Figure size 432x288 with 1 Axes>"
      ]
     },
     "metadata": {
      "needs_background": "light"
     },
     "output_type": "display_data"
    }
   ],
   "source": [
    "\n",
    "sns.distplot(df[\"chol\"])"
   ]
  },
  {
   "cell_type": "code",
   "execution_count": 34,
   "metadata": {},
   "outputs": [
    {
     "data": {
      "text/plain": [
       "<matplotlib.axes._subplots.AxesSubplot at 0x1d8c79d93d0>"
      ]
     },
     "execution_count": 34,
     "metadata": {},
     "output_type": "execute_result"
    },
    {
     "data": {
      "image/png": "[encoded data removed]",
      "text/plain": [
       "<Figure size 432x288 with 1 Axes>"
      ]
     },
     "metadata": {
      "needs_background": "light"
     },
     "output_type": "display_data"
    }
   ],
   "source": [
    "\n",
    "sns.distplot(df[\"thalach\"])"
   ]
  },
  {
   "cell_type": "code",
   "execution_count": 35,
   "metadata": {},
   "outputs": [
    {
     "data": {
      "text/plain": [
       "<matplotlib.axes._subplots.AxesSubplot at 0x1d8c7a41c70>"
      ]
     },
     "execution_count": 35,
     "metadata": {},
     "output_type": "execute_result"
    },
    {
     "data": {
      "image/png": "[encoded data removed]",
      "text/plain": [
       "<Figure size 432x288 with 1 Axes>"
      ]
     },
     "metadata": {
      "needs_background": "light"
     },
     "output_type": "display_data"
    }
   ],
   "source": [
    "\n",
    "sns.distplot(df[\"oldpeak\"])"
   ]
  },
  {
   "cell_type": "code",
   "execution_count": 36,
   "metadata": {},
   "outputs": [
    {
     "data": {
      "image/png": "[encoded data removed]",
      "text/plain": [
       "<Figure size 3600x3600 with 13 Axes>"
      ]
     },
     "metadata": {
      "needs_background": "light"
     },
     "output_type": "display_data"
    }
   ],
   "source": [
    "#code to observe the skewness in every column.\n",
    "import itertools\n",
    "cols=['Age', 'sex', 'cp', 'trestbps', 'chol', 'fbs', 'restecg', 'thalach',\n",
    "       'exang', 'oldpeak', 'slope',  'thal', 'num' ]\n",
    "length=len(cols)\n",
    "cs=[\"b\",\"r\",\"g\",\"c\",\"m\",\"k\",\"lime\"]\n",
    "fig=plt.figure(figsize=(50,50))\n",
    "\n",
    "for i,j,k in itertools.zip_longest(cols,range(length),cs):\n",
    "    plt.subplot(4,4,j+1)\n",
    "    ax=sns.distplot(df[i],color=k,rug=True)\n",
    "    ax.set_facecolor(\"w\")\n",
    "    plt.axvline(df[i].mean(),linestyle=\"dashed\",label=\"mean\",color=\"k\")\n",
    "    plt.legend(loc=\"best\")\n",
    "    plt.title(i,color=\"navy\")\n",
    "    plt.xlabel(\"\")"
   ]
  },
  {
   "cell_type": "markdown",
   "metadata": {},
   "source": [
    "# Bivariate Analysis"
   ]
  },
  {
   "cell_type": "code",
   "execution_count": 37,
   "metadata": {},
   "outputs": [
    {
     "data": {
      "image/png": "[encoded data removed]",
      "text/plain": [
       "<Figure size 432x288 with 1 Axes>"
      ]
     },
     "metadata": {
      "needs_background": "light"
     },
     "output_type": "display_data"
    }
   ],
   "source": [
    "sns.countplot(df[\"sex\"])\n",
    "plt.title('SEX')\n",
    "plt.show()"
   ]
  },
  {
   "cell_type": "code",
   "execution_count": 38,
   "metadata": {},
   "outputs": [
    {
     "data": {
      "image/png": "[encoded data removed]",
      "text/plain": [
       "<Figure size 432x288 with 1 Axes>"
      ]
     },
     "metadata": {
      "needs_background": "light"
     },
     "output_type": "display_data"
    },
    {
     "data": {
      "text/plain": [
       "<Figure size 360x1080 with 0 Axes>"
      ]
     },
     "metadata": {},
     "output_type": "display_data"
    }
   ],
   "source": [
    "sns.countplot(x=\"Age\",hue=\"sex\",data=df)\n",
    "plt.figure(figsize=(5,15))\n",
    "plt.show()"
   ]
  },
  {
   "cell_type": "code",
   "execution_count": 39,
   "metadata": {},
   "outputs": [
    {
     "data": {
      "image/png": "[encoded data removed]",
      "text/plain": [
       "<Figure size 432x288 with 1 Axes>"
      ]
     },
     "metadata": {
      "needs_background": "light"
     },
     "output_type": "display_data"
    },
    {
     "data": {
      "text/plain": [
       "<Figure size 360x1080 with 0 Axes>"
      ]
     },
     "metadata": {},
     "output_type": "display_data"
    }
   ],
   "source": [
    "sns.countplot(x=\"cp\",hue=\"sex\",data=df)\n",
    "plt.figure(figsize=(5,15))\n",
    "plt.show()"
   ]
  },
  {
   "cell_type": "code",
   "execution_count": 40,
   "metadata": {},
   "outputs": [
    {
     "data": {
      "image/png": "[encoded data removed]",
      "text/plain": [
       "<Figure size 432x288 with 1 Axes>"
      ]
     },
     "metadata": {
      "needs_background": "light"
     },
     "output_type": "display_data"
    },
    {
     "data": {
      "text/plain": [
       "<Figure size 360x1080 with 0 Axes>"
      ]
     },
     "metadata": {},
     "output_type": "display_data"
    }
   ],
   "source": [
    "sns.countplot(x=\"fbs\",hue=\"sex\",data=df)\n",
    "plt.figure(figsize=(5,15))\n",
    "plt.show()"
   ]
  },
  {
   "cell_type": "code",
   "execution_count": 41,
   "metadata": {},
   "outputs": [
    {
     "data": {
      "image/png": "[encoded data removed]",
      "text/plain": [
       "<Figure size 432x288 with 1 Axes>"
      ]
     },
     "metadata": {
      "needs_background": "light"
     },
     "output_type": "display_data"
    },
    {
     "data": {
      "text/plain": [
       "<Figure size 360x1080 with 0 Axes>"
      ]
     },
     "metadata": {},
     "output_type": "display_data"
    }
   ],
   "source": [
    "sns.countplot(x=\"restecg\",hue=\"sex\",data=df)\n",
    "plt.figure(figsize=(5,15))\n",
    "plt.show()"
   ]
  },
  {
   "cell_type": "code",
   "execution_count": 42,
   "metadata": {},
   "outputs": [
    {
     "data": {
      "text/plain": [
       "<Figure size 1080x3960 with 0 Axes>"
      ]
     },
     "execution_count": 42,
     "metadata": {},
     "output_type": "execute_result"
    },
    {
     "data": {
      "image/png": "[encoded data removed]",
      "text/plain": [
       "<Figure size 432x288 with 1 Axes>"
      ]
     },
     "metadata": {
      "needs_background": "light"
     },
     "output_type": "display_data"
    },
    {
     "data": {
      "text/plain": [
       "<Figure size 1080x3960 with 0 Axes>"
      ]
     },
     "metadata": {},
     "output_type": "display_data"
    }
   ],
   "source": [
    "sns.scatterplot(x=\"Age\",y='chol',data=df)\n",
    "plt.figure(figsize=(15,55))"
   ]
  },
  {
   "cell_type": "code",
   "execution_count": 43,
   "metadata": {},
   "outputs": [
    {
     "data": {
      "text/plain": [
       "<Figure size 1080x3960 with 0 Axes>"
      ]
     },
     "execution_count": 43,
     "metadata": {},
     "output_type": "execute_result"
    },
    {
     "data": {
      "image/png": "[encoded data removed]",
      "text/plain": [
       "<Figure size 432x288 with 1 Axes>"
      ]
     },
     "metadata": {
      "needs_background": "light"
     },
     "output_type": "display_data"
    },
    {
     "data": {
      "text/plain": [
       "<Figure size 1080x3960 with 0 Axes>"
      ]
     },
     "metadata": {},
     "output_type": "display_data"
    }
   ],
   "source": [
    "sns.scatterplot(x=\"Age\",y='trestbps',data=df)\n",
    "plt.figure(figsize=(15,55))"
   ]
  },
  {
   "cell_type": "code",
   "execution_count": 44,
   "metadata": {},
   "outputs": [
    {
     "data": {
      "text/plain": [
       "<Figure size 1080x3960 with 0 Axes>"
      ]
     },
     "execution_count": 44,
     "metadata": {},
     "output_type": "execute_result"
    },
    {
     "data": {
      "image/png": "[encoded data removed]",
      "text/plain": [
       "<Figure size 432x288 with 1 Axes>"
      ]
     },
     "metadata": {
      "needs_background": "light"
     },
     "output_type": "display_data"
    },
    {
     "data": {
      "text/plain": [
       "<Figure size 1080x3960 with 0 Axes>"
      ]
     },
     "metadata": {},
     "output_type": "display_data"
    }
   ],
   "source": [
    "sns.scatterplot(x=\"Age\",y='thalach',data=df)\n",
    "plt.figure(figsize=(15,55))"
   ]
  },
  {
   "cell_type": "markdown",
   "metadata": {},
   "source": [
    "# Multivariate Analysis"
   ]
  },
  {
   "cell_type": "code",
   "execution_count": 45,
   "metadata": {},
   "outputs": [
    {
     "data": {
      "text/html": [
       "<div>\n",
       "<style scoped>\n",
       "    .dataframe tbody tr th:only-of-type {\n",
       "        vertical-align: middle;\n",
       "    }\n",
       "\n",
       "    .dataframe tbody tr th {\n",
       "        vertical-align: top;\n",
       "    }\n",
       "\n",
       "    .dataframe thead th {\n",
       "        text-align: right;\n",
       "    }\n",
       "</style>\n",
       "<table border=\"1\" class=\"dataframe\">\n",
       "  <thead>\n",
       "    <tr style=\"text-align: right;\">\n",
       "      <th></th>\n",
       "      <th>Age</th>\n",
       "      <th>sex</th>\n",
       "      <th>cp</th>\n",
       "      <th>trestbps</th>\n",
       "      <th>chol</th>\n",
       "      <th>restecg</th>\n",
       "      <th>thalach</th>\n",
       "      <th>oldpeak</th>\n",
       "      <th>slope</th>\n",
       "      <th>num</th>\n",
       "    </tr>\n",
       "  </thead>\n",
       "  <tbody>\n",
       "    <tr>\n",
       "      <th>Age</th>\n",
       "      <td>1.000000</td>\n",
       "      <td>0.033837</td>\n",
       "      <td>-0.039809</td>\n",
       "      <td>0.173736</td>\n",
       "      <td>0.051519</td>\n",
       "      <td>0.001487</td>\n",
       "      <td>-0.145832</td>\n",
       "      <td>0.141417</td>\n",
       "      <td>0.107525</td>\n",
       "      <td>0.286630</td>\n",
       "    </tr>\n",
       "    <tr>\n",
       "      <th>sex</th>\n",
       "      <td>0.033837</td>\n",
       "      <td>1.000000</td>\n",
       "      <td>0.037525</td>\n",
       "      <td>0.005686</td>\n",
       "      <td>-0.165108</td>\n",
       "      <td>0.060305</td>\n",
       "      <td>-0.011655</td>\n",
       "      <td>0.067860</td>\n",
       "      <td>0.086842</td>\n",
       "      <td>0.147190</td>\n",
       "    </tr>\n",
       "    <tr>\n",
       "      <th>cp</th>\n",
       "      <td>-0.039809</td>\n",
       "      <td>0.037525</td>\n",
       "      <td>1.000000</td>\n",
       "      <td>0.125503</td>\n",
       "      <td>0.113913</td>\n",
       "      <td>0.033617</td>\n",
       "      <td>-0.057869</td>\n",
       "      <td>0.157806</td>\n",
       "      <td>0.059955</td>\n",
       "      <td>0.167202</td>\n",
       "    </tr>\n",
       "    <tr>\n",
       "      <th>trestbps</th>\n",
       "      <td>0.173736</td>\n",
       "      <td>0.005686</td>\n",
       "      <td>0.125503</td>\n",
       "      <td>1.000000</td>\n",
       "      <td>0.034915</td>\n",
       "      <td>0.050908</td>\n",
       "      <td>0.142365</td>\n",
       "      <td>0.266399</td>\n",
       "      <td>0.107061</td>\n",
       "      <td>0.214714</td>\n",
       "    </tr>\n",
       "    <tr>\n",
       "      <th>chol</th>\n",
       "      <td>0.051519</td>\n",
       "      <td>-0.165108</td>\n",
       "      <td>0.113913</td>\n",
       "      <td>0.034915</td>\n",
       "      <td>1.000000</td>\n",
       "      <td>-0.034673</td>\n",
       "      <td>-0.045715</td>\n",
       "      <td>-0.028716</td>\n",
       "      <td>0.043325</td>\n",
       "      <td>0.106183</td>\n",
       "    </tr>\n",
       "    <tr>\n",
       "      <th>restecg</th>\n",
       "      <td>0.001487</td>\n",
       "      <td>0.060305</td>\n",
       "      <td>0.033617</td>\n",
       "      <td>0.050908</td>\n",
       "      <td>-0.034673</td>\n",
       "      <td>1.000000</td>\n",
       "      <td>0.003596</td>\n",
       "      <td>-0.119048</td>\n",
       "      <td>-0.039628</td>\n",
       "      <td>-0.033597</td>\n",
       "    </tr>\n",
       "    <tr>\n",
       "      <th>thalach</th>\n",
       "      <td>-0.145832</td>\n",
       "      <td>-0.011655</td>\n",
       "      <td>-0.057869</td>\n",
       "      <td>0.142365</td>\n",
       "      <td>-0.045715</td>\n",
       "      <td>0.003596</td>\n",
       "      <td>1.000000</td>\n",
       "      <td>0.229870</td>\n",
       "      <td>-0.081476</td>\n",
       "      <td>-0.051691</td>\n",
       "    </tr>\n",
       "    <tr>\n",
       "      <th>oldpeak</th>\n",
       "      <td>0.141417</td>\n",
       "      <td>0.067860</td>\n",
       "      <td>0.157806</td>\n",
       "      <td>0.266399</td>\n",
       "      <td>-0.028716</td>\n",
       "      <td>-0.119048</td>\n",
       "      <td>0.229870</td>\n",
       "      <td>1.000000</td>\n",
       "      <td>0.324349</td>\n",
       "      <td>0.400840</td>\n",
       "    </tr>\n",
       "    <tr>\n",
       "      <th>slope</th>\n",
       "      <td>0.107525</td>\n",
       "      <td>0.086842</td>\n",
       "      <td>0.059955</td>\n",
       "      <td>0.107061</td>\n",
       "      <td>0.043325</td>\n",
       "      <td>-0.039628</td>\n",
       "      <td>-0.081476</td>\n",
       "      <td>0.324349</td>\n",
       "      <td>1.000000</td>\n",
       "      <td>0.142409</td>\n",
       "    </tr>\n",
       "    <tr>\n",
       "      <th>num</th>\n",
       "      <td>0.286630</td>\n",
       "      <td>0.147190</td>\n",
       "      <td>0.167202</td>\n",
       "      <td>0.214714</td>\n",
       "      <td>0.106183</td>\n",
       "      <td>-0.033597</td>\n",
       "      <td>-0.051691</td>\n",
       "      <td>0.400840</td>\n",
       "      <td>0.142409</td>\n",
       "      <td>1.000000</td>\n",
       "    </tr>\n",
       "  </tbody>\n",
       "</table>\n",
       "</div>"
      ],
      "text/plain": [
       "               Age       sex        cp  trestbps      chol   restecg  \\\n",
       "Age       1.000000  0.033837 -0.039809  0.173736  0.051519  0.001487   \n",
       "sex       0.033837  1.000000  0.037525  0.005686 -0.165108  0.060305   \n",
       "cp       -0.039809  0.037525  1.000000  0.125503  0.113913  0.033617   \n",
       "trestbps  0.173736  0.005686  0.125503  1.000000  0.034915  0.050908   \n",
       "chol      0.051519 -0.165108  0.113913  0.034915  1.000000 -0.034673   \n",
       "restecg   0.001487  0.060305  0.033617  0.050908 -0.034673  1.000000   \n",
       "thalach  -0.145832 -0.011655 -0.057869  0.142365 -0.045715  0.003596   \n",
       "oldpeak   0.141417  0.067860  0.157806  0.266399 -0.028716 -0.119048   \n",
       "slope     0.107525  0.086842  0.059955  0.107061  0.043325 -0.039628   \n",
       "num       0.286630  0.147190  0.167202  0.214714  0.106183 -0.033597   \n",
       "\n",
       "           thalach   oldpeak     slope       num  \n",
       "Age      -0.145832  0.141417  0.107525  0.286630  \n",
       "sex      -0.011655  0.067860  0.086842  0.147190  \n",
       "cp       -0.057869  0.157806  0.059955  0.167202  \n",
       "trestbps  0.142365  0.266399  0.107061  0.214714  \n",
       "chol     -0.045715 -0.028716  0.043325  0.106183  \n",
       "restecg   0.003596 -0.119048 -0.039628 -0.033597  \n",
       "thalach   1.000000  0.229870 -0.081476 -0.051691  \n",
       "oldpeak   0.229870  1.000000  0.324349  0.400840  \n",
       "slope    -0.081476  0.324349  1.000000  0.142409  \n",
       "num      -0.051691  0.400840  0.142409  1.000000  "
      ]
     },
     "execution_count": 45,
     "metadata": {},
     "output_type": "execute_result"
    }
   ],
   "source": [
    "df.corr()"
   ]
  },
  {
   "cell_type": "code",
   "execution_count": 46,
   "metadata": {},
   "outputs": [
    {
     "data": {
      "text/plain": [
       "<matplotlib.axes._subplots.AxesSubplot at 0x1d8c7c0a5b0>"
      ]
     },
     "execution_count": 46,
     "metadata": {},
     "output_type": "execute_result"
    },
    {
     "data": {
      "image/png": "[encoded data removed]",
      "text/plain": [
       "<Figure size 720x720 with 2 Axes>"
      ]
     },
     "metadata": {
      "needs_background": "light"
     },
     "output_type": "display_data"
    }
   ],
   "source": [
    "plt.figure(figsize=(10,10))\n",
    "\n",
    "sns.heatmap(df.corr(),annot=True, linewidth=0.5, linecolor=\"black\",fmt='.2f')"
   ]
  },
  {
   "cell_type": "raw",
   "metadata": {},
   "source": [
    "As we can observe target column has the strongest bond with oldpeak\n",
    "and weakest with restecg\n",
    "we will be dropping chol column because chol was having all the values as 0 or nan"
   ]
  },
  {
   "cell_type": "code",
   "execution_count": 48,
   "metadata": {},
   "outputs": [],
   "source": [
    "df[\"exang\"]=df[\"exang\"].astype(\"int\")"
   ]
  },
  {
   "cell_type": "code",
   "execution_count": 49,
   "metadata": {},
   "outputs": [],
   "source": [
    "df[\"fbs\"]=df[\"fbs\"].astype(\"int\")"
   ]
  },
  {
   "cell_type": "code",
   "execution_count": 50,
   "metadata": {},
   "outputs": [],
   "source": [
    "df[\"thal\"]=df[\"thal\"].astype(\"int\")"
   ]
  },
  {
   "cell_type": "code",
   "execution_count": 51,
   "metadata": {},
   "outputs": [],
   "source": [
    "df.drop(['ca',],axis=1,inplace=True)"
   ]
  },
  {
   "cell_type": "code",
   "execution_count": 52,
   "metadata": {},
   "outputs": [
    {
     "data": {
      "text/plain": [
       "Age           int64\n",
       "sex           int64\n",
       "cp            int64\n",
       "trestbps      int64\n",
       "chol          int64\n",
       "fbs           int32\n",
       "restecg       int64\n",
       "thalach       int64\n",
       "exang         int32\n",
       "oldpeak     float64\n",
       "slope         int32\n",
       "thal          int32\n",
       "num           int64\n",
       "dtype: object"
      ]
     },
     "execution_count": 52,
     "metadata": {},
     "output_type": "execute_result"
    }
   ],
   "source": [
    "df.dtypes"
   ]
  },
  {
   "cell_type": "code",
   "execution_count": 53,
   "metadata": {
    "scrolled": true
   },
   "outputs": [
    {
     "data": {
      "image/png": "[encoded data removed]",
      "text/plain": [
       "<Figure size 864x864 with 15 Axes>"
      ]
     },
     "metadata": {
      "needs_background": "light"
     },
     "output_type": "display_data"
    }
   ],
   "source": [
    "df.plot(kind='box', subplots=True, layout=(5,3), figsize=(12,12))\n",
    "plt.show()"
   ]
  },
  {
   "cell_type": "code",
   "execution_count": 54,
   "metadata": {},
   "outputs": [],
   "source": [
    "collist=df.columns.values\n",
    "ncol=14\n",
    "nrows=10"
   ]
  },
  {
   "cell_type": "code",
   "execution_count": 55,
   "metadata": {},
   "outputs": [
    {
     "data": {
      "image/png": "[encoded data removed]",
      "text/plain": [
       "<Figure size 1008x14112 with 12 Axes>"
      ]
     },
     "metadata": {
      "needs_background": "light"
     },
     "output_type": "display_data"
    }
   ],
   "source": [
    "#code for checking the outliers\n",
    "import matplotlib.pyplot as plt\n",
    "import seaborn as sns\n",
    "plt.figure(figsize=(ncol,14*ncol))\n",
    "for i in range(1,len(collist)):\n",
    "    plt.subplot(nrows,ncol,i+1)\n",
    "    sns.boxplot(df[collist[i]],color='green',orient='v')\n",
    "    plt.tight_layout()"
   ]
  },
  {
   "cell_type": "markdown",
   "metadata": {},
   "source": [
    "# There are not such outliers still we will confirm with Z-score"
   ]
  },
  {
   "cell_type": "code",
   "execution_count": 56,
   "metadata": {},
   "outputs": [
    {
     "data": {
      "text/plain": [
       "array([[1.96373685, 0.17631813, 0.62583065, ..., 0.13869083, 0.2046578 ,\n",
       "        1.24498245],\n",
       "       [0.08560374, 0.17631813, 0.62583065, ..., 1.98434575, 0.2046578 ,\n",
       "        0.39575601],\n",
       "       [0.5548152 , 0.17631813, 0.62583065, ..., 2.26172741, 0.2046578 ,\n",
       "        0.42461322],\n",
       "       ...,\n",
       "       [0.5548152 , 0.17631813, 0.62583065, ..., 0.13869083, 1.49229649,\n",
       "        0.39575601],\n",
       "       [0.17056384, 0.17631813, 0.62583065, ..., 0.13869083, 0.2046578 ,\n",
       "        1.24498245],\n",
       "       [0.34177131, 0.17631813, 1.89013499, ..., 0.13869083, 0.2046578 ,\n",
       "        0.42461322]])"
      ]
     },
     "execution_count": 56,
     "metadata": {},
     "output_type": "execute_result"
    }
   ],
   "source": [
    "#removing outliers\n",
    "import numpy as np\n",
    "from scipy.stats import zscore\n",
    "z=np.abs(zscore(df))\n",
    "z"
   ]
  },
  {
   "cell_type": "code",
   "execution_count": 57,
   "metadata": {},
   "outputs": [
    {
     "name": "stdout",
     "output_type": "stream",
     "text": [
      "(array([  0,   0,   0, ..., 198, 198, 198], dtype=int64), array([ 0,  1,  2, ..., 10, 11, 12], dtype=int64))\n"
     ]
    }
   ],
   "source": [
    "#to remove outliers we need threshold +3 and -3\n",
    "threshold=3\n",
    "print(np.where(z<3))"
   ]
  },
  {
   "cell_type": "code",
   "execution_count": 58,
   "metadata": {},
   "outputs": [],
   "source": [
    "df2=df[(z<3).all(axis=1)]"
   ]
  },
  {
   "cell_type": "code",
   "execution_count": 59,
   "metadata": {},
   "outputs": [
    {
     "data": {
      "text/html": [
       "<div>\n",
       "<style scoped>\n",
       "    .dataframe tbody tr th:only-of-type {\n",
       "        vertical-align: middle;\n",
       "    }\n",
       "\n",
       "    .dataframe tbody tr th {\n",
       "        vertical-align: top;\n",
       "    }\n",
       "\n",
       "    .dataframe thead th {\n",
       "        text-align: right;\n",
       "    }\n",
       "</style>\n",
       "<table border=\"1\" class=\"dataframe\">\n",
       "  <thead>\n",
       "    <tr style=\"text-align: right;\">\n",
       "      <th></th>\n",
       "      <th>Age</th>\n",
       "      <th>sex</th>\n",
       "      <th>cp</th>\n",
       "      <th>trestbps</th>\n",
       "      <th>chol</th>\n",
       "      <th>fbs</th>\n",
       "      <th>restecg</th>\n",
       "      <th>thalach</th>\n",
       "      <th>exang</th>\n",
       "      <th>oldpeak</th>\n",
       "      <th>slope</th>\n",
       "      <th>thal</th>\n",
       "      <th>num</th>\n",
       "    </tr>\n",
       "  </thead>\n",
       "  <tbody>\n",
       "    <tr>\n",
       "      <th>0</th>\n",
       "      <td>44</td>\n",
       "      <td>1</td>\n",
       "      <td>4</td>\n",
       "      <td>130</td>\n",
       "      <td>209</td>\n",
       "      <td>0</td>\n",
       "      <td>1</td>\n",
       "      <td>127</td>\n",
       "      <td>0</td>\n",
       "      <td>0.5</td>\n",
       "      <td>2</td>\n",
       "      <td>7</td>\n",
       "      <td>0</td>\n",
       "    </tr>\n",
       "    <tr>\n",
       "      <th>1</th>\n",
       "      <td>60</td>\n",
       "      <td>1</td>\n",
       "      <td>4</td>\n",
       "      <td>132</td>\n",
       "      <td>218</td>\n",
       "      <td>0</td>\n",
       "      <td>1</td>\n",
       "      <td>140</td>\n",
       "      <td>1</td>\n",
       "      <td>1.5</td>\n",
       "      <td>3</td>\n",
       "      <td>7</td>\n",
       "      <td>2</td>\n",
       "    </tr>\n",
       "    <tr>\n",
       "      <th>2</th>\n",
       "      <td>55</td>\n",
       "      <td>1</td>\n",
       "      <td>4</td>\n",
       "      <td>142</td>\n",
       "      <td>228</td>\n",
       "      <td>0</td>\n",
       "      <td>1</td>\n",
       "      <td>149</td>\n",
       "      <td>1</td>\n",
       "      <td>2.5</td>\n",
       "      <td>1</td>\n",
       "      <td>7</td>\n",
       "      <td>1</td>\n",
       "    </tr>\n",
       "    <tr>\n",
       "      <th>3</th>\n",
       "      <td>66</td>\n",
       "      <td>1</td>\n",
       "      <td>3</td>\n",
       "      <td>110</td>\n",
       "      <td>213</td>\n",
       "      <td>1</td>\n",
       "      <td>2</td>\n",
       "      <td>99</td>\n",
       "      <td>1</td>\n",
       "      <td>1.3</td>\n",
       "      <td>2</td>\n",
       "      <td>7</td>\n",
       "      <td>0</td>\n",
       "    </tr>\n",
       "    <tr>\n",
       "      <th>4</th>\n",
       "      <td>66</td>\n",
       "      <td>1</td>\n",
       "      <td>3</td>\n",
       "      <td>120</td>\n",
       "      <td>214</td>\n",
       "      <td>0</td>\n",
       "      <td>1</td>\n",
       "      <td>120</td>\n",
       "      <td>0</td>\n",
       "      <td>-0.5</td>\n",
       "      <td>1</td>\n",
       "      <td>7</td>\n",
       "      <td>0</td>\n",
       "    </tr>\n",
       "    <tr>\n",
       "      <th>...</th>\n",
       "      <td>...</td>\n",
       "      <td>...</td>\n",
       "      <td>...</td>\n",
       "      <td>...</td>\n",
       "      <td>...</td>\n",
       "      <td>...</td>\n",
       "      <td>...</td>\n",
       "      <td>...</td>\n",
       "      <td>...</td>\n",
       "      <td>...</td>\n",
       "      <td>...</td>\n",
       "      <td>...</td>\n",
       "      <td>...</td>\n",
       "    </tr>\n",
       "    <tr>\n",
       "      <th>190</th>\n",
       "      <td>62</td>\n",
       "      <td>1</td>\n",
       "      <td>4</td>\n",
       "      <td>160</td>\n",
       "      <td>254</td>\n",
       "      <td>1</td>\n",
       "      <td>1</td>\n",
       "      <td>108</td>\n",
       "      <td>1</td>\n",
       "      <td>3.0</td>\n",
       "      <td>2</td>\n",
       "      <td>7</td>\n",
       "      <td>4</td>\n",
       "    </tr>\n",
       "    <tr>\n",
       "      <th>191</th>\n",
       "      <td>53</td>\n",
       "      <td>1</td>\n",
       "      <td>4</td>\n",
       "      <td>144</td>\n",
       "      <td>300</td>\n",
       "      <td>1</td>\n",
       "      <td>1</td>\n",
       "      <td>128</td>\n",
       "      <td>1</td>\n",
       "      <td>1.5</td>\n",
       "      <td>2</td>\n",
       "      <td>7</td>\n",
       "      <td>3</td>\n",
       "    </tr>\n",
       "    <tr>\n",
       "      <th>192</th>\n",
       "      <td>62</td>\n",
       "      <td>1</td>\n",
       "      <td>4</td>\n",
       "      <td>158</td>\n",
       "      <td>170</td>\n",
       "      <td>0</td>\n",
       "      <td>1</td>\n",
       "      <td>138</td>\n",
       "      <td>1</td>\n",
       "      <td>0.5</td>\n",
       "      <td>2</td>\n",
       "      <td>7</td>\n",
       "      <td>1</td>\n",
       "    </tr>\n",
       "    <tr>\n",
       "      <th>196</th>\n",
       "      <td>55</td>\n",
       "      <td>1</td>\n",
       "      <td>4</td>\n",
       "      <td>122</td>\n",
       "      <td>223</td>\n",
       "      <td>1</td>\n",
       "      <td>1</td>\n",
       "      <td>100</td>\n",
       "      <td>0</td>\n",
       "      <td>0.5</td>\n",
       "      <td>2</td>\n",
       "      <td>6</td>\n",
       "      <td>2</td>\n",
       "    </tr>\n",
       "    <tr>\n",
       "      <th>198</th>\n",
       "      <td>62</td>\n",
       "      <td>1</td>\n",
       "      <td>2</td>\n",
       "      <td>120</td>\n",
       "      <td>254</td>\n",
       "      <td>0</td>\n",
       "      <td>2</td>\n",
       "      <td>93</td>\n",
       "      <td>1</td>\n",
       "      <td>0.5</td>\n",
       "      <td>2</td>\n",
       "      <td>7</td>\n",
       "      <td>1</td>\n",
       "    </tr>\n",
       "  </tbody>\n",
       "</table>\n",
       "<p>170 rows × 13 columns</p>\n",
       "</div>"
      ],
      "text/plain": [
       "     Age  sex  cp  trestbps  chol  fbs  restecg  thalach  exang  oldpeak  \\\n",
       "0     44    1   4       130   209    0        1      127      0      0.5   \n",
       "1     60    1   4       132   218    0        1      140      1      1.5   \n",
       "2     55    1   4       142   228    0        1      149      1      2.5   \n",
       "3     66    1   3       110   213    1        2       99      1      1.3   \n",
       "4     66    1   3       120   214    0        1      120      0     -0.5   \n",
       "..   ...  ...  ..       ...   ...  ...      ...      ...    ...      ...   \n",
       "190   62    1   4       160   254    1        1      108      1      3.0   \n",
       "191   53    1   4       144   300    1        1      128      1      1.5   \n",
       "192   62    1   4       158   170    0        1      138      1      0.5   \n",
       "196   55    1   4       122   223    1        1      100      0      0.5   \n",
       "198   62    1   2       120   254    0        2       93      1      0.5   \n",
       "\n",
       "     slope  thal  num  \n",
       "0        2     7    0  \n",
       "1        3     7    2  \n",
       "2        1     7    1  \n",
       "3        2     7    0  \n",
       "4        1     7    0  \n",
       "..     ...   ...  ...  \n",
       "190      2     7    4  \n",
       "191      2     7    3  \n",
       "192      2     7    1  \n",
       "196      2     6    2  \n",
       "198      2     7    1  \n",
       "\n",
       "[170 rows x 13 columns]"
      ]
     },
     "execution_count": 59,
     "metadata": {},
     "output_type": "execute_result"
    }
   ],
   "source": [
    "df2"
   ]
  },
  {
   "cell_type": "code",
   "execution_count": 60,
   "metadata": {},
   "outputs": [
    {
     "data": {
      "text/plain": [
       "14.572864321608039"
      ]
     },
     "execution_count": 60,
     "metadata": {},
     "output_type": "execute_result"
    }
   ],
   "source": [
    "percentage_loss=((199-170)/199)*100\n",
    "percentage_loss"
   ]
  },
  {
   "cell_type": "code",
   "execution_count": 61,
   "metadata": {},
   "outputs": [
    {
     "name": "stdout",
     "output_type": "stream",
     "text": [
      "Age          9.0\n",
      "sex          0.0\n",
      "cp           1.0\n",
      "trestbps    18.0\n",
      "chol        40.0\n",
      "fbs          1.0\n",
      "restecg      1.0\n",
      "thalach     19.0\n",
      "exang        1.0\n",
      "oldpeak      1.5\n",
      "slope        0.0\n",
      "thal         0.0\n",
      "num          3.0\n",
      "dtype: float64\n"
     ]
    }
   ],
   "source": [
    "Q1=df.quantile(0.25)\n",
    "Q3=df.quantile(0.75)\n",
    "IQR=Q3-Q1\n",
    "print(IQR)"
   ]
  },
  {
   "cell_type": "code",
   "execution_count": 62,
   "metadata": {},
   "outputs": [
    {
     "name": "stdout",
     "output_type": "stream",
     "text": [
      "(107, 13)\n"
     ]
    }
   ],
   "source": [
    "df2=df[~((df<(Q1-1.5*IQR))|(df>(Q3+1.5*IQR))).any(axis=1)]\n",
    "print(df2.shape)"
   ]
  },
  {
   "cell_type": "raw",
   "metadata": {},
   "source": [
    "we are loosimg too much data so we won't be proceeding with removing outliers."
   ]
  },
  {
   "cell_type": "markdown",
   "metadata": {},
   "source": [
    "# scaling"
   ]
  },
  {
   "cell_type": "code",
   "execution_count": 63,
   "metadata": {},
   "outputs": [],
   "source": [
    "X=df.drop('num',axis=1)\n",
    "Y=df['num']"
   ]
  },
  {
   "cell_type": "markdown",
   "metadata": {},
   "source": [
    "Let's remove skewness"
   ]
  },
  {
   "cell_type": "code",
   "execution_count": 64,
   "metadata": {},
   "outputs": [],
   "source": [
    "from sklearn.preprocessing import power_transform\n",
    "X=power_transform(X,method='yeo-johnson')"
   ]
  },
  {
   "cell_type": "code",
   "execution_count": 65,
   "metadata": {},
   "outputs": [
    {
     "name": "stdout",
     "output_type": "stream",
     "text": [
      "(array([  0,   0,   0, ..., 198, 198, 198], dtype=int64), array([ 0,  1,  2, ..., 10, 11, 12], dtype=int64))\n"
     ]
    }
   ],
   "source": [
    "#to remove outliers we need threshold +3 and -3\n",
    "threshold=3\n",
    "print(np.where(z<3))"
   ]
  },
  {
   "cell_type": "markdown",
   "metadata": {},
   "source": [
    "Scaling"
   ]
  },
  {
   "cell_type": "code",
   "execution_count": 66,
   "metadata": {},
   "outputs": [],
   "source": [
    "from sklearn.preprocessing import StandardScaler\n",
    "sc=StandardScaler()\n",
    "columns_to_scale=['Age','trestbps','chol','thalach','oldpeak']\n",
    "df[columns_to_scale]=sc.fit_transform(df[columns_to_scale])\n"
   ]
  },
  {
   "cell_type": "code",
   "execution_count": 67,
   "metadata": {},
   "outputs": [],
   "source": [
    "from sklearn.naive_bayes import MultinomialNB\n",
    "from sklearn.svm import SVC\n",
    "from sklearn.tree import DecisionTreeClassifier\n",
    "from sklearn.neighbors import KNeighborsClassifier\n",
    "from sklearn.metrics import accuracy_score,confusion_matrix,classification_report"
   ]
  },
  {
   "cell_type": "code",
   "execution_count": 68,
   "metadata": {},
   "outputs": [],
   "source": [
    "from sklearn.model_selection import train_test_split\n",
    "X_train,X_test,Y_train,Y_test=train_test_split(X,Y,test_size=.22,random_state=43)"
   ]
  },
  {
   "cell_type": "code",
   "execution_count": 69,
   "metadata": {},
   "outputs": [
    {
     "name": "stdout",
     "output_type": "stream",
     "text": [
      "0.2727272727272727\n",
      "[[5 5 1 1 0]\n",
      " [3 5 2 5 0]\n",
      " [1 3 2 3 0]\n",
      " [1 6 0 0 0]\n",
      " [0 0 1 0 0]]\n",
      "              precision    recall  f1-score   support\n",
      "\n",
      "           0       0.50      0.42      0.45        12\n",
      "           1       0.26      0.33      0.29        15\n",
      "           2       0.33      0.22      0.27         9\n",
      "           3       0.00      0.00      0.00         7\n",
      "           4       0.00      0.00      0.00         1\n",
      "\n",
      "    accuracy                           0.27        44\n",
      "   macro avg       0.22      0.19      0.20        44\n",
      "weighted avg       0.29      0.27      0.28        44\n",
      "\n"
     ]
    }
   ],
   "source": [
    "svc=SVC(kernel='rbf')\n",
    "svc.fit(X_train,Y_train)\n",
    "svc.score(X_train,Y_train)\n",
    "predsvc=svc.predict(X_test)\n",
    "print(accuracy_score(Y_test,predsvc))\n",
    "print(confusion_matrix(Y_test,predsvc))\n",
    "print(classification_report(Y_test,predsvc))"
   ]
  },
  {
   "cell_type": "code",
   "execution_count": 70,
   "metadata": {},
   "outputs": [
    {
     "name": "stdout",
     "output_type": "stream",
     "text": [
      "0.20454545454545456\n",
      "[[2 4 1 3 2]\n",
      " [5 5 4 1 0]\n",
      " [1 5 1 2 0]\n",
      " [1 2 3 1 0]\n",
      " [0 1 0 0 0]]\n",
      "              precision    recall  f1-score   support\n",
      "\n",
      "           0       0.22      0.17      0.19        12\n",
      "           1       0.29      0.33      0.31        15\n",
      "           2       0.11      0.11      0.11         9\n",
      "           3       0.14      0.14      0.14         7\n",
      "           4       0.00      0.00      0.00         1\n",
      "\n",
      "    accuracy                           0.20        44\n",
      "   macro avg       0.15      0.15      0.15        44\n",
      "weighted avg       0.21      0.20      0.20        44\n",
      "\n"
     ]
    }
   ],
   "source": [
    "dtc=DecisionTreeClassifier()\n",
    "dtc.fit(X_train,Y_train)\n",
    "dtc.score(X_train,Y_train)\n",
    "preddtc=dtc.predict(X_test)\n",
    "print(accuracy_score(Y_test,preddtc))\n",
    "print(confusion_matrix(Y_test,preddtc))\n",
    "print(classification_report(Y_test,preddtc))"
   ]
  },
  {
   "cell_type": "code",
   "execution_count": 71,
   "metadata": {},
   "outputs": [
    {
     "name": "stdout",
     "output_type": "stream",
     "text": [
      "0.2727272727272727\n",
      "[[1 8 0 3 0]\n",
      " [1 9 1 4 0]\n",
      " [0 6 0 3 0]\n",
      " [1 4 0 2 0]\n",
      " [0 0 0 1 0]]\n",
      "              precision    recall  f1-score   support\n",
      "\n",
      "           0       0.33      0.08      0.13        12\n",
      "           1       0.33      0.60      0.43        15\n",
      "           2       0.00      0.00      0.00         9\n",
      "           3       0.15      0.29      0.20         7\n",
      "           4       0.00      0.00      0.00         1\n",
      "\n",
      "    accuracy                           0.27        44\n",
      "   macro avg       0.16      0.19      0.15        44\n",
      "weighted avg       0.23      0.27      0.21        44\n",
      "\n"
     ]
    }
   ],
   "source": [
    "svc=SVC(kernel='poly')\n",
    "svc.fit(X_train,Y_train)\n",
    "svc.score(X_train,Y_train)\n",
    "predsvc=svc.predict(X_test)\n",
    "print(accuracy_score(Y_test,predsvc))\n",
    "print(confusion_matrix(Y_test,predsvc))\n",
    "print(classification_report(Y_test,predsvc))"
   ]
  },
  {
   "cell_type": "code",
   "execution_count": 72,
   "metadata": {},
   "outputs": [
    {
     "name": "stdout",
     "output_type": "stream",
     "text": [
      "0.22727272727272727\n",
      "[[4 5 1 2 0]\n",
      " [5 5 2 3 0]\n",
      " [0 3 1 5 0]\n",
      " [2 5 0 0 0]\n",
      " [0 0 1 0 0]]\n",
      "              precision    recall  f1-score   support\n",
      "\n",
      "           0       0.36      0.33      0.35        12\n",
      "           1       0.28      0.33      0.30        15\n",
      "           2       0.20      0.11      0.14         9\n",
      "           3       0.00      0.00      0.00         7\n",
      "           4       0.00      0.00      0.00         1\n",
      "\n",
      "    accuracy                           0.23        44\n",
      "   macro avg       0.17      0.16      0.16        44\n",
      "weighted avg       0.23      0.23      0.23        44\n",
      "\n"
     ]
    }
   ],
   "source": [
    "#k=10\n",
    "knn=KNeighborsClassifier()\n",
    "knn.fit(X_train,Y_train)\n",
    "knn.score(X_train,Y_train)\n",
    "predknn=knn.predict(X_test)\n",
    "print(accuracy_score(Y_test,predknn))\n",
    "print(confusion_matrix(Y_test,predknn))\n",
    "print(classification_report(Y_test,predknn))"
   ]
  },
  {
   "cell_type": "code",
   "execution_count": 73,
   "metadata": {},
   "outputs": [],
   "source": [
    "from sklearn.ensemble import RandomForestClassifier\n",
    "from sklearn.ensemble import AdaBoostClassifier\n",
    "from sklearn.ensemble import GradientBoostingClassifier\n",
    "from sklearn.ensemble import BaggingClassifier\n",
    "from sklearn.ensemble import ExtraTreesClassifier"
   ]
  },
  {
   "cell_type": "code",
   "execution_count": 74,
   "metadata": {},
   "outputs": [
    {
     "name": "stdout",
     "output_type": "stream",
     "text": [
      "Accuracy score RandomForestClassifier() is:\n",
      "0.4318181818181818\n",
      "[[5 2 3 2 0]\n",
      " [3 8 2 2 0]\n",
      " [0 3 4 2 0]\n",
      " [1 4 0 2 0]\n",
      " [0 1 0 0 0]]\n",
      "              precision    recall  f1-score   support\n",
      "\n",
      "           0       0.56      0.42      0.48        12\n",
      "           1       0.44      0.53      0.48        15\n",
      "           2       0.44      0.44      0.44         9\n",
      "           3       0.25      0.29      0.27         7\n",
      "           4       0.00      0.00      0.00         1\n",
      "\n",
      "    accuracy                           0.43        44\n",
      "   macro avg       0.34      0.34      0.33        44\n",
      "weighted avg       0.43      0.43      0.43        44\n",
      "\n",
      "Accuracy score AdaBoostClassifier() is:\n",
      "0.29545454545454547\n",
      "[[0 9 2 1 0]\n",
      " [0 7 6 2 0]\n",
      " [1 2 3 3 0]\n",
      " [1 2 2 2 0]\n",
      " [0 0 0 0 1]]\n",
      "              precision    recall  f1-score   support\n",
      "\n",
      "           0       0.00      0.00      0.00        12\n",
      "           1       0.35      0.47      0.40        15\n",
      "           2       0.23      0.33      0.27         9\n",
      "           3       0.25      0.29      0.27         7\n",
      "           4       1.00      1.00      1.00         1\n",
      "\n",
      "    accuracy                           0.30        44\n",
      "   macro avg       0.37      0.42      0.39        44\n",
      "weighted avg       0.23      0.30      0.26        44\n",
      "\n",
      "Accuracy score GradientBoostingClassifier() is:\n",
      "0.36363636363636365\n",
      "[[5 3 2 2 0]\n",
      " [1 9 2 3 0]\n",
      " [0 5 1 3 0]\n",
      " [4 1 1 1 0]\n",
      " [0 1 0 0 0]]\n",
      "              precision    recall  f1-score   support\n",
      "\n",
      "           0       0.50      0.42      0.45        12\n",
      "           1       0.47      0.60      0.53        15\n",
      "           2       0.17      0.11      0.13         9\n",
      "           3       0.11      0.14      0.12         7\n",
      "           4       0.00      0.00      0.00         1\n",
      "\n",
      "    accuracy                           0.36        44\n",
      "   macro avg       0.25      0.25      0.25        44\n",
      "weighted avg       0.35      0.36      0.35        44\n",
      "\n",
      "Accuracy score BaggingClassifier() is:\n",
      "0.3181818181818182\n",
      "[[5 5 0 2 0]\n",
      " [3 8 2 2 0]\n",
      " [0 5 1 3 0]\n",
      " [5 2 0 0 0]\n",
      " [0 0 1 0 0]]\n",
      "              precision    recall  f1-score   support\n",
      "\n",
      "           0       0.38      0.42      0.40        12\n",
      "           1       0.40      0.53      0.46        15\n",
      "           2       0.25      0.11      0.15         9\n",
      "           3       0.00      0.00      0.00         7\n",
      "           4       0.00      0.00      0.00         1\n",
      "\n",
      "    accuracy                           0.32        44\n",
      "   macro avg       0.21      0.21      0.20        44\n",
      "weighted avg       0.29      0.32      0.30        44\n",
      "\n",
      "Accuracy score ExtraTreesClassifier() is:\n",
      "0.38636363636363635\n",
      "[[4 4 3 1 0]\n",
      " [1 8 3 3 0]\n",
      " [0 3 4 1 1]\n",
      " [1 5 0 1 0]\n",
      " [0 1 0 0 0]]\n",
      "              precision    recall  f1-score   support\n",
      "\n",
      "           0       0.67      0.33      0.44        12\n",
      "           1       0.38      0.53      0.44        15\n",
      "           2       0.40      0.44      0.42         9\n",
      "           3       0.17      0.14      0.15         7\n",
      "           4       0.00      0.00      0.00         1\n",
      "\n",
      "    accuracy                           0.39        44\n",
      "   macro avg       0.32      0.29      0.29        44\n",
      "weighted avg       0.42      0.39      0.38        44\n",
      "\n"
     ]
    }
   ],
   "source": [
    "model=[RandomForestClassifier(),AdaBoostClassifier(),GradientBoostingClassifier(),BaggingClassifier(),ExtraTreesClassifier()]\n",
    "for m in model:\n",
    "    m.fit(X_train,Y_train)\n",
    "    m.score(X_train,Y_train)\n",
    "    predm=m.predict(X_test)\n",
    "    print('Accuracy score',m,'is:')\n",
    "    print(accuracy_score(Y_test,predm))\n",
    "    print(confusion_matrix(Y_test,predm))\n",
    "    print(classification_report(Y_test,predm))\n",
    "    "
   ]
  },
  {
   "cell_type": "markdown",
   "metadata": {},
   "source": [
    "# Hyperparameter tuning"
   ]
  },
  {
   "cell_type": "code",
   "execution_count": 75,
   "metadata": {},
   "outputs": [],
   "source": [
    "# Number of trees in random forest\n",
    "n_estimators = [int(x) for x in np.linspace(start = 10, stop = 80, num = 10)]\n",
    "# Number of features to consider at every split\n",
    "max_features = ['auto', 'sqrt']\n",
    "# Maximum number of levels in tree\n",
    "max_depth = [2,4]\n",
    "# Minimum number of samples required to split a node\n",
    "min_samples_split = [2, 5]\n",
    "# Minimum number of samples required at each leaf node\n",
    "min_samples_leaf = [1, 2]\n",
    "# Method of selecting samples for training each tree\n",
    "bootstrap = [True, False]"
   ]
  },
  {
   "cell_type": "code",
   "execution_count": 76,
   "metadata": {},
   "outputs": [],
   "source": [
    "# Create the param grid\n",
    "param_grid = {'n_estimators': n_estimators,\n",
    "               'max_features': max_features,\n",
    "               'max_depth': max_depth,\n",
    "               'min_samples_split': min_samples_split,\n",
    "               'min_samples_leaf': min_samples_leaf,\n",
    "               'bootstrap': bootstrap}"
   ]
  },
  {
   "cell_type": "code",
   "execution_count": 77,
   "metadata": {},
   "outputs": [],
   "source": [
    "rf_Model = RandomForestClassifier()"
   ]
  },
  {
   "cell_type": "code",
   "execution_count": 78,
   "metadata": {},
   "outputs": [],
   "source": [
    "from sklearn.model_selection import GridSearchCV\n",
    "rf_Grid = GridSearchCV(estimator = rf_Model, param_grid = param_grid, cv = 3, verbose=2, n_jobs = 4)"
   ]
  },
  {
   "cell_type": "code",
   "execution_count": 79,
   "metadata": {},
   "outputs": [
    {
     "name": "stdout",
     "output_type": "stream",
     "text": [
      "Fitting 3 folds for each of 320 candidates, totalling 960 fits\n"
     ]
    },
    {
     "name": "stderr",
     "output_type": "stream",
     "text": [
      "[Parallel(n_jobs=4)]: Using backend LokyBackend with 4 concurrent workers.\n",
      "[Parallel(n_jobs=4)]: Done  33 tasks      | elapsed:    3.0s\n",
      "[Parallel(n_jobs=4)]: Done 260 tasks      | elapsed:   10.0s\n",
      "[Parallel(n_jobs=4)]: Done 666 tasks      | elapsed:   20.1s\n",
      "[Parallel(n_jobs=4)]: Done 960 out of 960 | elapsed:   26.7s finished\n"
     ]
    },
    {
     "data": {
      "text/plain": [
       "GridSearchCV(cv=3, estimator=RandomForestClassifier(), n_jobs=4,\n",
       "             param_grid={'bootstrap': [True, False], 'max_depth': [2, 4],\n",
       "                         'max_features': ['auto', 'sqrt'],\n",
       "                         'min_samples_leaf': [1, 2],\n",
       "                         'min_samples_split': [2, 5],\n",
       "                         'n_estimators': [10, 17, 25, 33, 41, 48, 56, 64, 72,\n",
       "                                          80]},\n",
       "             verbose=2)"
      ]
     },
     "execution_count": 79,
     "metadata": {},
     "output_type": "execute_result"
    }
   ],
   "source": [
    "rf_Grid.fit(X_train, Y_train)"
   ]
  },
  {
   "cell_type": "code",
   "execution_count": 80,
   "metadata": {},
   "outputs": [
    {
     "data": {
      "text/plain": [
       "{'bootstrap': True,\n",
       " 'max_depth': 4,\n",
       " 'max_features': 'auto',\n",
       " 'min_samples_leaf': 1,\n",
       " 'min_samples_split': 5,\n",
       " 'n_estimators': 56}"
      ]
     },
     "execution_count": 80,
     "metadata": {},
     "output_type": "execute_result"
    }
   ],
   "source": [
    "rf_Grid.best_params_"
   ]
  },
  {
   "cell_type": "code",
   "execution_count": 81,
   "metadata": {},
   "outputs": [
    {
     "name": "stdout",
     "output_type": "stream",
     "text": [
      "Train Accuracy - : 0.748\n",
      "Test Accuracy - : 0.409\n"
     ]
    }
   ],
   "source": [
    "print (f'Train Accuracy - : {rf_Grid.score(X_train,Y_train):.3f}')\n",
    "print (f'Test Accuracy - : {rf_Grid.score(X_test,Y_test):.3f}')"
   ]
  }
 ],
 "metadata": {
  "kernelspec": {
   "display_name": "Python 3",
   "language": "python",
   "name": "python3"
  },
  "language_info": {
   "codemirror_mode": {
    "name": "ipython",
    "version": 3
   },
   "file_extension": ".py",
   "mimetype": "text/x-python",
   "name": "python",
   "nbconvert_exporter": "python",
   "pygments_lexer": "ipython3",
   "version": "3.8.3"
  }
 },
 "nbformat": 4,
 "nbformat_minor": 4
}
